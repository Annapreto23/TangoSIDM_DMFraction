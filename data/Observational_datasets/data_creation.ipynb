{
 "cells": [
  {
   "cell_type": "markdown",
   "id": "fde1e5f5-79ed-430a-b755-d10a6874d47b",
   "metadata": {},
   "source": [
    "# Creating the dataset"
   ]
  },
  {
   "cell_type": "code",
   "execution_count": 29,
   "id": "1321cd09-aecd-4c29-8311-2b0c8a314a61",
   "metadata": {},
   "outputs": [],
   "source": [
    "import numpy as np\n",
    "import matplotlib.pyplot as plt\n",
    "from glob import glob\n",
    "import pandas as pd"
   ]
  },
  {
   "cell_type": "markdown",
   "id": "8fbf1ca4-0804-4faf-85aa-57e382088e4c",
   "metadata": {},
   "source": [
    "## With SPARC"
   ]
  },
  {
   "cell_type": "markdown",
   "id": "9a19096d-53a0-4cc9-af89-c74cbaed7a5d",
   "metadata": {},
   "source": [
    "### Loading the two samples"
   ]
  },
  {
   "cell_type": "code",
   "execution_count": 30,
   "id": "5aa84867-df04-4e13-b6eb-52a17b669ec8",
   "metadata": {},
   "outputs": [
    {
     "name": "stdout",
     "output_type": "stream",
     "text": [
      "175 galaxies found\n"
     ]
    }
   ],
   "source": [
    "# Sample from table 2 : http://astroweb.cwru.edu/SPARC/ (for the velocity curves)\n",
    "\n",
    "files = 'samples/rotmod_LTG/*.dat'\n",
    "data = glob(files)\n",
    "print(\"{} galaxies found\".format(len(data)))\n",
    "\n",
    "# Sample from table 1 : http://astroweb.cwru.edu/SPARC/ (for the luminosities [3.6] and effective radii)\n",
    "\n",
    "df = pd.read_csv('samples/table1.csv')"
   ]
  },
  {
   "cell_type": "markdown",
   "id": "dca1cd50-aebb-4c6b-ba48-21ca6d117e76",
   "metadata": {},
   "source": [
    "### Useful functions"
   ]
  },
  {
   "cell_type": "code",
   "execution_count": 31,
   "id": "69d067ba-edeb-4249-b11e-973195aef3d1",
   "metadata": {},
   "outputs": [],
   "source": [
    "def finding_index(name):\n",
    "    return data.index('./rotmod_LTG/' + name + '_rotmod.dat')\n",
    "i = finding_index('CamB')\n",
    "\n",
    "def finding_name(galaxy):\n",
    "    return galaxy.name"
   ]
  },
  {
   "cell_type": "markdown",
   "id": "eece5a8b-aa44-4b97-9db9-3b3346336a4f",
   "metadata": {},
   "source": [
    "### Merging the two data samples and calculating stellar masses and dark matter fraction"
   ]
  },
  {
   "cell_type": "code",
   "execution_count": 32,
   "id": "71748329-7760-406e-b420-3ea6c04a97f4",
   "metadata": {},
   "outputs": [
    {
     "name": "stdout",
     "output_type": "stream",
     "text": [
      "[-1.64913765 -1.68159834 -1.18247184 -0.77882072 -0.42995455 -0.1259083\n",
      "  0.12626383  0.32082129  0.60668758] 37500000.0\n"
     ]
    }
   ],
   "source": [
    "# Parameters in http://astroweb.cwru.edu/SPARC/\n",
    "\n",
    "gammadisk = 0.5\n",
    "gammabul = 0.7\n",
    "\n",
    "\n",
    "# Calculating the stellar masses assuming M/L ratio is equal to 0.5 (Lelli 2016)\n",
    "\n",
    "M = 0.5*df['L3_6']*10**9\n",
    "\n",
    "class galaxy():\n",
    "    def __init__(self, i):\n",
    "        # Constructor method to initialize a galaxy object with index i\n",
    "        self.index = i \n",
    "        # Index of the galaxy\n",
    "        self.name = data[i].split('/')[-1].split('_')[0]\n",
    "        # Extracting the name of the galaxy from the data file path\n",
    "        self.radius = np.loadtxt(data[i])[:, 0]\n",
    "        # Loading radius data from the data file\n",
    "        self.Vobs = np.loadtxt(data[i])[:, 1]\n",
    "        # Loading observed velocity data from the data file\n",
    "        self.errV = np.loadtxt(data[i])[:, 2]\n",
    "        # Loading error in velocity data from the data file\n",
    "        self.Vgas = np.loadtxt(data[i])[:, 3]\n",
    "        # Loading gas velocity data from the data file\n",
    "        self.Vdisk = np.loadtxt(data[i])[:, 4]\n",
    "        # Loading disk velocity data from the data file\n",
    "        self.Vbul = np.loadtxt(data[i])[:, 5]\n",
    "        # Loading bulge velocity data from the data file\n",
    "        self.SBdisk = np.loadtxt(data[i])[:, 6]\n",
    "        # Loading disk surface brightness data from the data file\n",
    "        self.SBbul = np.loadtxt(data[i])[:, 7]\n",
    "        # Loading bulge surface brightness data from the data file\n",
    "        self.Vbar = None\n",
    "        # Initializing attribute for baryons velocity\n",
    "        self.fDM = None\n",
    "        # Initializing attribute for dark matter fraction\n",
    "        self.stellarmass = None\n",
    "        # Initializing attribute for stellar mass\n",
    "        self.effRad = None\n",
    "        # Initializing attribute for effective radius\n",
    "\n",
    "    def add_Vbar(self):\n",
    "        # Method to calculate the velocity of the baryons\n",
    "        Vbar = np.sqrt(abs(self.Vgas) * self.Vgas + gammadisk * abs(self.Vdisk) * self.Vdisk + gammabul * abs(self.Vbul) * self.Vbul)\n",
    "        # Calculating the velocity of the baryons\n",
    "        self.Vbar = Vbar\n",
    "        return 1\n",
    "        \n",
    "    def add_fDM(self):\n",
    "        # Method to calculate dark matter fraction\n",
    "        if self.Vbar == None:\n",
    "           self.add_Vbar() \n",
    "        # Checking if the velocity of the baryons has been calculated, if not, calculate it\n",
    "        fDM = (self.Vobs**2 - self.Vbar**2) / (self.Vobs**2)\n",
    "        # Calculating dark matter fraction\n",
    "        self.fDM = fDM\n",
    "        # Assigning calculated dark matter fraction to attribute\n",
    "        return 1\n",
    "        \n",
    "    def isintwo(self):\n",
    "        # Method to check if galaxy is in the two data samples\n",
    "        if len(np.where(df['Name'] == self.name)[0]) != 0:\n",
    "            return 1\n",
    "        else:\n",
    "            return 0\n",
    "            \n",
    "    def add_stellarmass(self):\n",
    "        # Method to add stellar mass data (in solar mass)\n",
    "        if len(np.where(df['Name'] == self.name)[0]) != 0:\n",
    "            # Checking if galaxy is in the two data samples\n",
    "            Mass = M[np.where(df['Name'] == self.name)[0][0]]\n",
    "            # Getting stellar mass from pre-calculated data\n",
    "            self.stellarmass = Mass\n",
    "            # Assigning stellar mass to attribute\n",
    "        return 1\n",
    "        \n",
    "    def add_effRad(self):\n",
    "        # Method to add effective radius data (in kpc)\n",
    "        if len(np.where(df['Name'] == self.name)[0]) != 0:\n",
    "            # Checking if galaxy is in the two data samples\n",
    "            R = df['Reff'][np.where(df['Name'] == self.name)[0][0]]\n",
    "            # Getting effective radius\n",
    "            self.effRad = R\n",
    "            # Assigning effective radius to attribute\n",
    "        return 1\n",
    "\n",
    "\n",
    "# Testing\n",
    "\n",
    "firstgal = galaxy(i)\n",
    "\n",
    "firstgal.add_fDM()\n",
    "firstgal.add_stellarmass()\n",
    "firstgal.add_effRad()\n",
    "\n",
    "\n",
    "print(firstgal.fDM, firstgal.stellarmass)"
   ]
  },
  {
   "cell_type": "markdown",
   "id": "249affca-739e-40c1-b281-75abdc453a7e",
   "metadata": {},
   "source": [
    "### Reproducing plots from Lelli 2016 for testing\n"
   ]
  },
  {
   "cell_type": "code",
   "execution_count": 33,
   "id": "76d5da04-4761-42c5-80e5-af80c77468b6",
   "metadata": {},
   "outputs": [
    {
     "data": {
      "image/png": "[encoded data removed]",
      "text/plain": [
       "<Figure size 640x480 with 1 Axes>"
      ]
     },
     "metadata": {},
     "output_type": "display_data"
    }
   ],
   "source": [
    "errV = firstgal.errV \n",
    "\n",
    "plt.errorbar(firstgal.radius, firstgal.Vobs, yerr=errV, fmt='o', label='Vobs', color='black')\n",
    "\n",
    "plt.plot(firstgal.radius, firstgal.Vobs,'o', label='Vobs', color = 'black')\n",
    "plt.plot(firstgal.radius, firstgal.Vbar, label='Vbar', color='blue')\n",
    "plt.plot(firstgal.radius, firstgal.Vdisk * 0.7,linestyle= 'dashed', label='Vdisk', color = 'red')\n",
    "plt.plot(firstgal.radius, firstgal.Vgas, linestyle = 'dotted',label='Vgas', color = 'green')\n",
    "plt.plot(firstgal.radius, firstgal.Vbul *.85, linestyle =(0, (3, 1, 1, 1)), label='Vbul', color = 'purple')\n",
    "plt.xlabel('radius (kpc)')\n",
    "plt.ylabel('Rotation Velocity (km.s-1)')\n",
    "#plt.ylim([0, 300])\n",
    "plt.legend()\n",
    "plt.grid(True)\n",
    "plt.show()\n",
    "#plt.savefig('SPARC_MassModel/'+finding_name(firstgal)+'.png')"
   ]
  },
  {
   "cell_type": "markdown",
   "id": "47c81d52-ca6f-4262-af35-50e994bed4b2",
   "metadata": {},
   "source": [
    "### Making the final csv file"
   ]
  },
  {
   "cell_type": "code",
   "execution_count": 34,
   "id": "d0813953-f0ac-489e-8ede-2be13513a02c",
   "metadata": {},
   "outputs": [
    {
     "name": "stdout",
     "output_type": "stream",
     "text": [
      "0.3641071029577853, 0.41844809507631825, 0.43746364776234553, 0.3983703110860865, 0.38245180564413267, 0.39030169116612046, 0.4311160355548469, 0.4519368566792862\n"
     ]
    }
   ],
   "source": [
    "import csv\n",
    "import numpy as np\n",
    "\n",
    "# Open a CSV file for writing\n",
    "with open('dataset/SPARC.csv', 'w', newline='') as csvfile:\n",
    "    writer = csv.writer(csvfile, delimiter = ',')\n",
    "\n",
    "    # Write the name line and the unit line\n",
    "    writer.writerow([\"Name\", \"M*\", \"Reff\", \"fDM(Reff)\", \"sigma_fdm(Reff)\", \"fDM\", \"sigma_fdm\", \"Radius\"])\n",
    "    writer.writerow([\"(SDSS)\", \"[Msun]\", \"[kpc]\", \"None\", \"None\", \"None\", \"None\", \"[kpc]\"])\n",
    "\n",
    "    # Loop through each element of data\n",
    "    for i in range(len(data)):\n",
    "        firstgal = galaxy(i)\n",
    "        if firstgal.isintwo():\n",
    "            firstgal.add_fDM()\n",
    "            firstgal.add_stellarmass()\n",
    "            firstgal.add_effRad()\n",
    "\n",
    "            # Extracting necessary data\n",
    "            name = firstgal.name\n",
    "            errV = firstgal.errV\n",
    "            Mass = '{:.2e}'.format(firstgal.stellarmass)\n",
    "            effRad = firstgal.effRad\n",
    "            rad = firstgal.radius\n",
    "            rad_str = \", \".join(map(str, rad))  # Convert the NumPy array to a string\n",
    "            fDM = firstgal.fDM\n",
    "            fDM_str = \", \".join(map(str, fDM))\n",
    "            fDMeff = np.interp(effRad, rad, firstgal.fDM)\n",
    "            sigma_fdm = np.sqrt((2 * firstgal.Vbar**2 / firstgal.Vobs**3 * errV)**2)\n",
    "            sigma_fdm_str = \", \".join(map(str, sigma_fdm))\n",
    "            sigma_fdmeff = np.sqrt((2 * np.interp(effRad, rad, firstgal.Vbar)**2 / np.interp(effRad, rad, firstgal.Vobs)**3 * np.interp(effRad, rad, errV))**2)\n",
    "\n",
    "            # Write the data to the CSV file with commas as separators\n",
    "            writer.writerow([name, Mass, effRad, fDMeff, sigma_fdmeff , fDM_str, sigma_fdm_str, rad_str])\n",
    "            \n",
    "# Read the CSV file into a DataFrame\n",
    "sparc = pd.read_csv('dataset/SPARC.csv')\n",
    "# Test\n",
    "print(sparc['fDM'].iloc[1])\n"
   ]
  },
  {
   "cell_type": "markdown",
   "id": "9cb29458-f71a-464a-b44c-224536ef34c6",
   "metadata": {},
   "source": [
    "## With Bezanson 2015"
   ]
  },
  {
   "cell_type": "markdown",
   "id": "f751039c-300e-4fd7-8eb4-97262d51ec7c",
   "metadata": {},
   "source": [
    "### Loading the data"
   ]
  },
  {
   "cell_type": "code",
   "execution_count": 35,
   "id": "ccc418ff-4aeb-4add-8d4c-7eb0c2219cf1",
   "metadata": {},
   "outputs": [],
   "source": [
    "df = pd.read_csv('samples/bezanson.csv')"
   ]
  },
  {
   "cell_type": "markdown",
   "id": "7637df9e-1813-4c6b-aac3-4e3c029e2d2f",
   "metadata": {},
   "source": [
    "### Selecting and converting data into the correct units"
   ]
  },
  {
   "cell_type": "code",
   "execution_count": 40,
   "id": "debe3c80-0251-4149-aa75-4739dd1e1062",
   "metadata": {},
   "outputs": [],
   "source": [
    "selection = df[['sig_Re', 'Re', 'logM']]\n",
    "kpc = 3.085e16*1e3\n",
    "\n",
    "# The velocities dispersion\n",
    "veldisp = df['sig_Re']*1e3\n",
    "# The radii\n",
    "r = df['Re']*kpc\n",
    "# The stellar masses\n",
    "M = 10**df['logM']*2e30"
   ]
  },
  {
   "cell_type": "markdown",
   "id": "afa4faf0-61cf-44b1-86c3-f3387cb9eb6f",
   "metadata": {},
   "source": [
    "### Constants"
   ]
  },
  {
   "cell_type": "code",
   "execution_count": 42,
   "id": "72fb587c-f43d-4d5b-ae05-e1c7ba27dc17",
   "metadata": {},
   "outputs": [],
   "source": [
    "G = 6.67e-11\n",
    "K = 5\n",
    "#ref for K: http://dx.doi.org/10.1111/j.1365-2966.2005.09981.x"
   ]
  },
  {
   "cell_type": "markdown",
   "id": "5ac7087c-254f-4b93-95cf-6fc550504996",
   "metadata": {},
   "source": [
    "### Calculating the fraction of dark matter"
   ]
  },
  {
   "cell_type": "code",
   "execution_count": null,
   "id": "4fef656d-e7b0-4980-a797-a4c4faa11dbf",
   "metadata": {},
   "outputs": [],
   "source": [
    "f = 1 - (M*G)/(veldisp**2*r*K)"
   ]
  },
  {
   "cell_type": "markdown",
   "id": "1239151f-585b-48aa-a985-f25bf0d47ef5",
   "metadata": {},
   "source": [
    "### Making the final csv file"
   ]
  },
  {
   "cell_type": "code",
   "execution_count": 43,
   "id": "c995f373-e8d5-43ea-a530-e695548552b8",
   "metadata": {},
   "outputs": [
    {
     "data": {
      "text/html": [
       "<div>\n",
       "<style scoped>\n",
       "    .dataframe tbody tr th:only-of-type {\n",
       "        vertical-align: middle;\n",
       "    }\n",
       "\n",
       "    .dataframe tbody tr th {\n",
       "        vertical-align: top;\n",
       "    }\n",
       "\n",
       "    .dataframe thead th {\n",
       "        text-align: right;\n",
       "    }\n",
       "</style>\n",
       "<table border=\"1\" class=\"dataframe\">\n",
       "  <thead>\n",
       "    <tr style=\"text-align: right;\">\n",
       "      <th></th>\n",
       "      <th>Name</th>\n",
       "      <th>M*</th>\n",
       "      <th>Reff</th>\n",
       "      <th>fDM(Reff)</th>\n",
       "      <th>sigma_fdm(Reff)</th>\n",
       "    </tr>\n",
       "  </thead>\n",
       "  <tbody>\n",
       "    <tr>\n",
       "      <th>0</th>\n",
       "      <td>NaN</td>\n",
       "      <td>[Msun]</td>\n",
       "      <td>[kpc]</td>\n",
       "      <td>NaN</td>\n",
       "      <td>NaN</td>\n",
       "    </tr>\n",
       "    <tr>\n",
       "      <th>1</th>\n",
       "      <td>C1971</td>\n",
       "      <td>91201083935.59116</td>\n",
       "      <td>4.4</td>\n",
       "      <td>0.597364</td>\n",
       "      <td>0.000031</td>\n",
       "    </tr>\n",
       "    <tr>\n",
       "      <th>2</th>\n",
       "      <td>C2335</td>\n",
       "      <td>13489628825.916561</td>\n",
       "      <td>0.8</td>\n",
       "      <td>0.286870</td>\n",
       "      <td>0.000060</td>\n",
       "    </tr>\n",
       "    <tr>\n",
       "      <th>3</th>\n",
       "      <td>C3382</td>\n",
       "      <td>41686938347.03346</td>\n",
       "      <td>5.9</td>\n",
       "      <td>0.735521</td>\n",
       "      <td>0.000024</td>\n",
       "    </tr>\n",
       "    <tr>\n",
       "      <th>4</th>\n",
       "      <td>C3420</td>\n",
       "      <td>67608297539.19819</td>\n",
       "      <td>2.1</td>\n",
       "      <td>0.571815</td>\n",
       "      <td>0.000054</td>\n",
       "    </tr>\n",
       "    <tr>\n",
       "      <th>...</th>\n",
       "      <td>...</td>\n",
       "      <td>...</td>\n",
       "      <td>...</td>\n",
       "      <td>...</td>\n",
       "      <td>...</td>\n",
       "    </tr>\n",
       "    <tr>\n",
       "      <th>96</th>\n",
       "      <td>U40638</td>\n",
       "      <td>70794578438.41373</td>\n",
       "      <td>3.9</td>\n",
       "      <td>0.056620</td>\n",
       "      <td>0.000102</td>\n",
       "    </tr>\n",
       "    <tr>\n",
       "      <th>97</th>\n",
       "      <td>U40998</td>\n",
       "      <td>17782794100.38923</td>\n",
       "      <td>2.3</td>\n",
       "      <td>0.259107</td>\n",
       "      <td>0.000109</td>\n",
       "    </tr>\n",
       "    <tr>\n",
       "      <th>98</th>\n",
       "      <td>U41037</td>\n",
       "      <td>24547089156.850334</td>\n",
       "      <td>1.6</td>\n",
       "      <td>0.576490</td>\n",
       "      <td>0.000048</td>\n",
       "    </tr>\n",
       "    <tr>\n",
       "      <th>99</th>\n",
       "      <td>U41224</td>\n",
       "      <td>10000000000.0</td>\n",
       "      <td>1.0</td>\n",
       "      <td>0.511092</td>\n",
       "      <td>0.000074</td>\n",
       "    </tr>\n",
       "    <tr>\n",
       "      <th>100</th>\n",
       "      <td>U41225</td>\n",
       "      <td>77624711662.86928</td>\n",
       "      <td>3.3</td>\n",
       "      <td>0.646822</td>\n",
       "      <td>0.000053</td>\n",
       "    </tr>\n",
       "  </tbody>\n",
       "</table>\n",
       "<p>101 rows × 5 columns</p>\n",
       "</div>"
      ],
      "text/plain": [
       "       Name                  M*   Reff  fDM(Reff)  sigma_fdm(Reff)\n",
       "0       NaN              [Msun]  [kpc]        NaN              NaN\n",
       "1    C1971    91201083935.59116    4.4   0.597364         0.000031\n",
       "2    C2335   13489628825.916561    0.8   0.286870         0.000060\n",
       "3    C3382    41686938347.03346    5.9   0.735521         0.000024\n",
       "4    C3420    67608297539.19819    2.1   0.571815         0.000054\n",
       "..      ...                 ...    ...        ...              ...\n",
       "96   U40638   70794578438.41373    3.9   0.056620         0.000102\n",
       "97   U40998   17782794100.38923    2.3   0.259107         0.000109\n",
       "98   U41037  24547089156.850334    1.6   0.576490         0.000048\n",
       "99   U41224       10000000000.0    1.0   0.511092         0.000074\n",
       "100  U41225   77624711662.86928    3.3   0.646822         0.000053\n",
       "\n",
       "[101 rows x 5 columns]"
      ]
     },
     "execution_count": 43,
     "metadata": {},
     "output_type": "execute_result"
    }
   ],
   "source": [
    "# Writing the data into a CSV file\n",
    "with open('dataset/BEZANSON15.csv', 'w', newline='') as csvfile:\n",
    "    writer = csv.writer(csvfile)\n",
    "\n",
    "    # Writing the name line and the unit line\n",
    "    writer.writerow([\"Name\", \"M*\", \"Reff\", \"fDM(Reff)\", \"sigma_fdm(Reff)\"])\n",
    "    writer.writerow([\"None\", \"[Msun]\", \"[kpc]\", \"None\", \"None\"])\n",
    "\n",
    "    # Looping through each element of the DataFrame\n",
    "    for i in range(len(df)):\n",
    "        name = df['ID'][i]\n",
    "        Mass = 10**df['logM'][i]\n",
    "        effRad = r[i] / kpc\n",
    "        fDMeff = f[i]\n",
    "        sigma_fdmeff = df['e_sig_Re'][i] * abs(2 * (Mass * 2e30 * G) / (veldisp[i]**3 * effRad * kpc * K))\n",
    "        # Writing the data into the CSV file\n",
    "        writer.writerow([name, Mass, effRad, fDMeff, sigma_fdmeff])\n",
    "        \n",
    "# Reading the CSV file into a DataFrame\n",
    "bezanson = pd.read_csv('dataset/BEZANSON15.csv')\n",
    "bezanson"
   ]
  },
  {
   "cell_type": "markdown",
   "id": "328e171a-4de6-4c26-bd32-ea7f11de010d",
   "metadata": {},
   "source": [
    "## With Cappellari"
   ]
  },
  {
   "cell_type": "markdown",
   "id": "0cf5bef7-a974-4138-810e-96b4a1407e41",
   "metadata": {},
   "source": [
    "### Loading the two samples"
   ]
  },
  {
   "cell_type": "code",
   "execution_count": 46,
   "id": "2cea9bc9-427e-4afa-9ed3-cb06a19aa0dd",
   "metadata": {},
   "outputs": [],
   "source": [
    "capXV=np.loadtxt('samples/CappellariXV.txt',  usecols=np.arange(1, 15))\n",
    "capXX= np.loadtxt('samples/CappellariXX.txt', usecols=np.arange(1, 5))\n"
   ]
  },
  {
   "cell_type": "markdown",
   "id": "8f0949d6-1cbf-4870-b227-1f0d6dd27723",
   "metadata": {},
   "source": [
    "### Calculating stellar masses and DM fraction"
   ]
  },
  {
   "cell_type": "code",
   "execution_count": 47,
   "id": "54c6dace-743d-4c0a-a368-9b195b743e93",
   "metadata": {},
   "outputs": [],
   "source": [
    "logML = capXX[:,-2]\n",
    "logL = capXV[:,-1]\n",
    "M = 10**(logML+logL)\n",
    "fDM = capXX[:,-3]"
   ]
  },
  {
   "cell_type": "markdown",
   "id": "dc2ad35d-8f84-4be7-b521-dccb3edf59e3",
   "metadata": {},
   "source": [
    "### Making the final csv file"
   ]
  },
  {
   "cell_type": "code",
   "execution_count": 49,
   "id": "7e5711fa-ee08-42cb-9e81-48c87462d240",
   "metadata": {},
   "outputs": [
    {
     "data": {
      "text/html": [
       "<div>\n",
       "<style scoped>\n",
       "    .dataframe tbody tr th:only-of-type {\n",
       "        vertical-align: middle;\n",
       "    }\n",
       "\n",
       "    .dataframe tbody tr th {\n",
       "        vertical-align: top;\n",
       "    }\n",
       "\n",
       "    .dataframe thead th {\n",
       "        text-align: right;\n",
       "    }\n",
       "</style>\n",
       "<table border=\"1\" class=\"dataframe\">\n",
       "  <thead>\n",
       "    <tr style=\"text-align: right;\">\n",
       "      <th></th>\n",
       "      <th>Name</th>\n",
       "      <th>M*</th>\n",
       "      <th>fDM(Reff)</th>\n",
       "      <th>sigma_fdm(Reff)</th>\n",
       "    </tr>\n",
       "  </thead>\n",
       "  <tbody>\n",
       "    <tr>\n",
       "      <th>0</th>\n",
       "      <td>NaN</td>\n",
       "      <td>[Msun]</td>\n",
       "      <td>NaN</td>\n",
       "      <td>NaN</td>\n",
       "    </tr>\n",
       "    <tr>\n",
       "      <th>1</th>\n",
       "      <td>1.879</td>\n",
       "      <td>9885530946.56941</td>\n",
       "      <td>0.12</td>\n",
       "      <td>0.0</td>\n",
       "    </tr>\n",
       "    <tr>\n",
       "      <th>2</th>\n",
       "      <td>1.996</td>\n",
       "      <td>12473835142.429434</td>\n",
       "      <td>0.24</td>\n",
       "      <td>0.0</td>\n",
       "    </tr>\n",
       "    <tr>\n",
       "      <th>3</th>\n",
       "      <td>1.806</td>\n",
       "      <td>13835663789.71781</td>\n",
       "      <td>0.20</td>\n",
       "      <td>0.0</td>\n",
       "    </tr>\n",
       "    <tr>\n",
       "      <th>4</th>\n",
       "      <td>2.108</td>\n",
       "      <td>33884415613.920208</td>\n",
       "      <td>0.11</td>\n",
       "      <td>0.0</td>\n",
       "    </tr>\n",
       "    <tr>\n",
       "      <th>...</th>\n",
       "      <td>...</td>\n",
       "      <td>...</td>\n",
       "      <td>...</td>\n",
       "      <td>...</td>\n",
       "    </tr>\n",
       "    <tr>\n",
       "      <th>254</th>\n",
       "      <td>1.781</td>\n",
       "      <td>7063175542.629622</td>\n",
       "      <td>0.00</td>\n",
       "      <td>0.0</td>\n",
       "    </tr>\n",
       "    <tr>\n",
       "      <th>255</th>\n",
       "      <td>2.125</td>\n",
       "      <td>31117163371.0602</td>\n",
       "      <td>0.25</td>\n",
       "      <td>0.0</td>\n",
       "    </tr>\n",
       "    <tr>\n",
       "      <th>256</th>\n",
       "      <td>1.984</td>\n",
       "      <td>12078138351.067772</td>\n",
       "      <td>0.50</td>\n",
       "      <td>0.0</td>\n",
       "    </tr>\n",
       "    <tr>\n",
       "      <th>257</th>\n",
       "      <td>2.105</td>\n",
       "      <td>27925438412.373363</td>\n",
       "      <td>0.00</td>\n",
       "      <td>0.0</td>\n",
       "    </tr>\n",
       "    <tr>\n",
       "      <th>258</th>\n",
       "      <td>2.001</td>\n",
       "      <td>10399201658.290579</td>\n",
       "      <td>0.10</td>\n",
       "      <td>0.0</td>\n",
       "    </tr>\n",
       "  </tbody>\n",
       "</table>\n",
       "<p>259 rows × 4 columns</p>\n",
       "</div>"
      ],
      "text/plain": [
       "      Name                  M*  fDM(Reff)  sigma_fdm(Reff)\n",
       "0      NaN              [Msun]        NaN              NaN\n",
       "1    1.879    9885530946.56941       0.12              0.0\n",
       "2    1.996  12473835142.429434       0.24              0.0\n",
       "3    1.806   13835663789.71781       0.20              0.0\n",
       "4    2.108  33884415613.920208       0.11              0.0\n",
       "..     ...                 ...        ...              ...\n",
       "254  1.781   7063175542.629622       0.00              0.0\n",
       "255  2.125    31117163371.0602       0.25              0.0\n",
       "256  1.984  12078138351.067772       0.50              0.0\n",
       "257  2.105  27925438412.373363       0.00              0.0\n",
       "258  2.001  10399201658.290579       0.10              0.0\n",
       "\n",
       "[259 rows x 4 columns]"
      ]
     },
     "execution_count": 49,
     "metadata": {},
     "output_type": "execute_result"
    }
   ],
   "source": [
    "# Writing the data into a CSV file\n",
    "with open('dataset/CAPPELLARI13.csv', 'w', newline='') as csvfile:\n",
    "    writer = csv.writer(csvfile)\n",
    "\n",
    "    # Writing the name line and the unit line\n",
    "    writer.writerow([\"Name\", \"M*\", \"fDM(Reff)\", \"sigma_fdm(Reff)\"])\n",
    "    writer.writerow([\"None\", \"[Msun]\", \"None\", \"None\"])\n",
    "\n",
    "    # Looping through each element of the data\n",
    "    for i in range(len(capXV)):\n",
    "        name = capXV[i,0]\n",
    "        Mass = M[i]\n",
    "\n",
    "        fDMeff = fDM[i]\n",
    "        sigma_fdmeff = 0 #no errors provided\n",
    "        # Writing the data into the CSV file\n",
    "        writer.writerow([name, Mass, fDMeff, sigma_fdmeff])\n",
    "        \n",
    "# Reading the CSV file into a DataFrame\n",
    "cappellari = pd.read_csv('dataset/CAPPELLARI13.csv')\n",
    "cappellari"
   ]
  }
 ],
 "metadata": {
  "kernelspec": {
   "display_name": "Python 3 (ipykernel)",
   "language": "python",
   "name": "python3"
  },
  "language_info": {
   "codemirror_mode": {
    "name": "ipython",
    "version": 3
   },
   "file_extension": ".py",
   "mimetype": "text/x-python",
   "name": "python",
   "nbconvert_exporter": "python",
   "pygments_lexer": "ipython3",
   "version": "3.11.7"
  }
 },
 "nbformat": 4,
 "nbformat_minor": 5
}

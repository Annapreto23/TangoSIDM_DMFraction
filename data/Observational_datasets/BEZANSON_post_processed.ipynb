{
 "cells": [
  {
   "cell_type": "markdown",
   "id": "c1057a28-6baa-4d0a-b067-cf3d5dad566a",
   "metadata": {},
   "source": [
    "# Creating the dataset from Bezanson2015"
   ]
  },
  {
   "cell_type": "code",
   "execution_count": 1,
   "id": "e7899b0e-f188-4c53-970b-afc7238d1217",
   "metadata": {},
   "outputs": [],
   "source": [
    "import numpy as np\n",
    "import matplotlib.pyplot as plt\n",
    "from glob import glob\n",
    "import pandas as pd\n",
    "import csv"
   ]
  },
  {
   "cell_type": "markdown",
   "id": "0fcf2934-7ba3-4397-b775-45a21bffecde",
   "metadata": {},
   "source": [
    "### Loading the data"
   ]
  },
  {
   "cell_type": "code",
   "execution_count": 3,
   "id": "56aa84c4-62d9-4e30-9e8c-a294fbaa3dda",
   "metadata": {},
   "outputs": [],
   "source": [
    "df = pd.read_csv('./raw_data/Bezanson_2015.csv')"
   ]
  },
  {
   "cell_type": "markdown",
   "id": "ca9c87c3-4f0e-422b-ba7a-6291bb1a330c",
   "metadata": {},
   "source": [
    "### Selecting and converting data into the correct units"
   ]
  },
  {
   "cell_type": "code",
   "execution_count": 4,
   "id": "39e6c42d-9a71-4b20-8099-9e107804a330",
   "metadata": {},
   "outputs": [],
   "source": [
    "selection = df[['sig_Re', 'Re', 'logM']]\n",
    "kpc = 3.085e16*1e3\n",
    "\n",
    "# The velocities dispersion\n",
    "veldisp = df['sig_Re']*1e3\n",
    "# The radii\n",
    "r = df['Re']*kpc\n",
    "# The stellar masses\n",
    "M = 10**df['logM']*2e30"
   ]
  },
  {
   "cell_type": "markdown",
   "id": "07f05de8-2b28-4810-bb01-01f951484566",
   "metadata": {},
   "source": [
    "### Constants"
   ]
  },
  {
   "cell_type": "code",
   "execution_count": 5,
   "id": "367280a1-0563-48a9-9ae4-f1eac6f668a3",
   "metadata": {},
   "outputs": [],
   "source": [
    "G = 6.67e-11\n",
    "K = 5\n",
    "#ref for K: http://dx.doi.org/10.1111/j.1365-2966.2005.09981.x"
   ]
  },
  {
   "cell_type": "markdown",
   "id": "d6856d87-c057-4755-9bab-2e701efb0186",
   "metadata": {},
   "source": [
    "### Calculating the fraction of dark matter"
   ]
  },
  {
   "cell_type": "code",
   "execution_count": 6,
   "id": "f8ebd07d-c5bc-496e-8fbc-b5108309ad04",
   "metadata": {},
   "outputs": [],
   "source": [
    "f = 1 - (M*G)/(veldisp**2*r*K)"
   ]
  },
  {
   "cell_type": "markdown",
   "id": "bc1606f9-c895-4fb4-a74e-df19991bcf94",
   "metadata": {},
   "source": [
    "### Making the final csv file"
   ]
  },
  {
   "cell_type": "code",
   "execution_count": 7,
   "id": "ab18b3f9-e5d4-474a-a3f7-010b426bcad7",
   "metadata": {},
   "outputs": [
    {
     "data": {
      "text/html": [
       "<div>\n",
       "<style scoped>\n",
       "    .dataframe tbody tr th:only-of-type {\n",
       "        vertical-align: middle;\n",
       "    }\n",
       "\n",
       "    .dataframe tbody tr th {\n",
       "        vertical-align: top;\n",
       "    }\n",
       "\n",
       "    .dataframe thead th {\n",
       "        text-align: right;\n",
       "    }\n",
       "</style>\n",
       "<table border=\"1\" class=\"dataframe\">\n",
       "  <thead>\n",
       "    <tr style=\"text-align: right;\">\n",
       "      <th></th>\n",
       "      <th>Name</th>\n",
       "      <th>M*</th>\n",
       "      <th>Reff</th>\n",
       "      <th>fDM(Reff)</th>\n",
       "      <th>sigma_fdm(Reff)</th>\n",
       "    </tr>\n",
       "  </thead>\n",
       "  <tbody>\n",
       "    <tr>\n",
       "      <th>0</th>\n",
       "      <td>NaN</td>\n",
       "      <td>[Msun]</td>\n",
       "      <td>[kpc]</td>\n",
       "      <td>NaN</td>\n",
       "      <td>NaN</td>\n",
       "    </tr>\n",
       "    <tr>\n",
       "      <th>1</th>\n",
       "      <td>C1971</td>\n",
       "      <td>91201083935.59116</td>\n",
       "      <td>4.4</td>\n",
       "      <td>0.597364</td>\n",
       "      <td>0.000031</td>\n",
       "    </tr>\n",
       "    <tr>\n",
       "      <th>2</th>\n",
       "      <td>C2335</td>\n",
       "      <td>13489628825.916561</td>\n",
       "      <td>0.8</td>\n",
       "      <td>0.286870</td>\n",
       "      <td>0.000060</td>\n",
       "    </tr>\n",
       "    <tr>\n",
       "      <th>3</th>\n",
       "      <td>C3382</td>\n",
       "      <td>41686938347.03346</td>\n",
       "      <td>5.9</td>\n",
       "      <td>0.735521</td>\n",
       "      <td>0.000024</td>\n",
       "    </tr>\n",
       "    <tr>\n",
       "      <th>4</th>\n",
       "      <td>C3420</td>\n",
       "      <td>67608297539.19819</td>\n",
       "      <td>2.1</td>\n",
       "      <td>0.571815</td>\n",
       "      <td>0.000054</td>\n",
       "    </tr>\n",
       "    <tr>\n",
       "      <th>...</th>\n",
       "      <td>...</td>\n",
       "      <td>...</td>\n",
       "      <td>...</td>\n",
       "      <td>...</td>\n",
       "      <td>...</td>\n",
       "    </tr>\n",
       "    <tr>\n",
       "      <th>96</th>\n",
       "      <td>U40638</td>\n",
       "      <td>70794578438.41373</td>\n",
       "      <td>3.9</td>\n",
       "      <td>0.056620</td>\n",
       "      <td>0.000102</td>\n",
       "    </tr>\n",
       "    <tr>\n",
       "      <th>97</th>\n",
       "      <td>U40998</td>\n",
       "      <td>17782794100.38923</td>\n",
       "      <td>2.3</td>\n",
       "      <td>0.259107</td>\n",
       "      <td>0.000109</td>\n",
       "    </tr>\n",
       "    <tr>\n",
       "      <th>98</th>\n",
       "      <td>U41037</td>\n",
       "      <td>24547089156.850334</td>\n",
       "      <td>1.6</td>\n",
       "      <td>0.576490</td>\n",
       "      <td>0.000048</td>\n",
       "    </tr>\n",
       "    <tr>\n",
       "      <th>99</th>\n",
       "      <td>U41224</td>\n",
       "      <td>10000000000.0</td>\n",
       "      <td>1.0</td>\n",
       "      <td>0.511092</td>\n",
       "      <td>0.000074</td>\n",
       "    </tr>\n",
       "    <tr>\n",
       "      <th>100</th>\n",
       "      <td>U41225</td>\n",
       "      <td>77624711662.86928</td>\n",
       "      <td>3.3</td>\n",
       "      <td>0.646822</td>\n",
       "      <td>0.000053</td>\n",
       "    </tr>\n",
       "  </tbody>\n",
       "</table>\n",
       "<p>101 rows × 5 columns</p>\n",
       "</div>"
      ],
      "text/plain": [
       "       Name                  M*   Reff  fDM(Reff)  sigma_fdm(Reff)\n",
       "0       NaN              [Msun]  [kpc]        NaN              NaN\n",
       "1    C1971    91201083935.59116    4.4   0.597364         0.000031\n",
       "2    C2335   13489628825.916561    0.8   0.286870         0.000060\n",
       "3    C3382    41686938347.03346    5.9   0.735521         0.000024\n",
       "4    C3420    67608297539.19819    2.1   0.571815         0.000054\n",
       "..      ...                 ...    ...        ...              ...\n",
       "96   U40638   70794578438.41373    3.9   0.056620         0.000102\n",
       "97   U40998   17782794100.38923    2.3   0.259107         0.000109\n",
       "98   U41037  24547089156.850334    1.6   0.576490         0.000048\n",
       "99   U41224       10000000000.0    1.0   0.511092         0.000074\n",
       "100  U41225   77624711662.86928    3.3   0.646822         0.000053\n",
       "\n",
       "[101 rows x 5 columns]"
      ]
     },
     "execution_count": 7,
     "metadata": {},
     "output_type": "execute_result"
    }
   ],
   "source": [
    "# Writing the data into a CSV file\n",
    "with open('dataset/BEZANSON15.csv', 'w', newline='') as csvfile:\n",
    "    writer = csv.writer(csvfile)\n",
    "\n",
    "    # Writing the name line and the unit line\n",
    "    writer.writerow([\"Name\", \"M*[Msun]\", \"Reff[kpc]\", \"fDM(Reff)\", \"ErrorfDM\"])\n",
    "\n",
    "    # Looping through each element of the DataFrame\n",
    "    for i in range(len(df)):\n",
    "        name = df['ID'][i]\n",
    "        Mass = 10**df['logM'][i]\n",
    "        effRad = r[i] / kpc\n",
    "        fDMeff = f[i]\n",
    "        sigma_fdmeff = df['e_sig_Re'][i] * abs(2 * (Mass * 2e30 * G) / (veldisp[i]**3 * effRad * kpc * K))\n",
    "        # Writing the data into the CSV file\n",
    "        writer.writerow([name, Mass, effRad, fDMeff, sigma_fdmeff])\n",
    "        \n",
    "# Reading the CSV file into a DataFrame\n",
    "bezanson = pd.read_csv('dataset/BEZANSON15.csv')\n",
    "bezanson"
   ]
  },
  {
   "cell_type": "code",
   "execution_count": null,
   "id": "3dd23594-6ca0-4c43-95df-5b3bf3c37dd5",
   "metadata": {},
   "outputs": [],
   "source": []
  }
 ],
 "metadata": {
  "kernelspec": {
   "display_name": "Python 3 (ipykernel)",
   "language": "python",
   "name": "python3"
  },
  "language_info": {
   "codemirror_mode": {
    "name": "ipython",
    "version": 3
   },
   "file_extension": ".py",
   "mimetype": "text/x-python",
   "name": "python",
   "nbconvert_exporter": "python",
   "pygments_lexer": "ipython3",
   "version": "3.9.6"
  }
 },
 "nbformat": 4,
 "nbformat_minor": 5
}

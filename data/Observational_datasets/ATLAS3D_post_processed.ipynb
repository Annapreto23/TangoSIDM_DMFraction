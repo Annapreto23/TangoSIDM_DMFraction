{
 "cells": [
  {
   "cell_type": "markdown",
   "id": "5e1fd051-9c6b-47c2-ba8e-2ad69e9ee224",
   "metadata": {},
   "source": [
    "# Creating the dataset from ATLAS3D"
   ]
  },
  {
   "cell_type": "code",
   "execution_count": 1,
   "id": "1ef9167b-8926-4b31-823d-5ad5d3a91744",
   "metadata": {},
   "outputs": [],
   "source": [
    "import numpy as np\n",
    "import matplotlib.pyplot as plt\n",
    "from glob import glob\n",
    "import pandas as pd\n",
    "import csv"
   ]
  },
  {
   "cell_type": "markdown",
   "id": "19e4e9db-754a-49a7-ac76-abbf47beacbd",
   "metadata": {},
   "source": [
    "### Loading the two samples"
   ]
  },
  {
   "cell_type": "code",
   "execution_count": 2,
   "id": "2ea33eac-43a5-4aaf-8b18-0fcdf89af395",
   "metadata": {},
   "outputs": [],
   "source": [
    "capXV=np.loadtxt('./raw_data/ATLAS3D_CappellariXV_2013.txt',  usecols=np.arange(1, 15))\n",
    "capXX= np.loadtxt('./raw_data/ATLAS3D_CappellariXX_2013.txt', usecols=np.arange(1, 5))"
   ]
  },
  {
   "cell_type": "markdown",
   "id": "ab3b6b7d-3ee6-4109-975e-f01e9eea057f",
   "metadata": {},
   "source": [
    "### Calculating stellar masses and DM fraction"
   ]
  },
  {
   "cell_type": "code",
   "execution_count": 12,
   "id": "152a5aa0-0b01-47a7-aca3-41b6d898195c",
   "metadata": {},
   "outputs": [],
   "source": [
    "logML = capXX[:,-2]\n",
    "logL = capXV[:,-1]\n",
    "R = capXV[:,-6]\n",
    "M = 10**(logML+logL)\n",
    "fDM = capXX[:,-3]\n"
   ]
  },
  {
   "cell_type": "markdown",
   "id": "e2ba78bc-1a5f-43d3-9d4e-4e14977d56e5",
   "metadata": {},
   "source": [
    "### Making the final csv file"
   ]
  },
  {
   "cell_type": "code",
   "execution_count": 14,
   "id": "6f35411e-bf7b-458c-ae28-fd7bc4cd8ea8",
   "metadata": {},
   "outputs": [
    {
     "data": {
      "text/html": [
       "<div>\n",
       "<style scoped>\n",
       "    .dataframe tbody tr th:only-of-type {\n",
       "        vertical-align: middle;\n",
       "    }\n",
       "\n",
       "    .dataframe tbody tr th {\n",
       "        vertical-align: top;\n",
       "    }\n",
       "\n",
       "    .dataframe thead th {\n",
       "        text-align: right;\n",
       "    }\n",
       "</style>\n",
       "<table border=\"1\" class=\"dataframe\">\n",
       "  <thead>\n",
       "    <tr style=\"text-align: right;\">\n",
       "      <th></th>\n",
       "      <th>Name</th>\n",
       "      <th>M*</th>\n",
       "      <th>Reff</th>\n",
       "      <th>fDM(Reff)</th>\n",
       "      <th>sigma_fdm(Reff)</th>\n",
       "    </tr>\n",
       "  </thead>\n",
       "  <tbody>\n",
       "    <tr>\n",
       "      <th>0</th>\n",
       "      <td>NaN</td>\n",
       "      <td>[Msun]</td>\n",
       "      <td>[kpc]</td>\n",
       "      <td>NaN</td>\n",
       "      <td>NaN</td>\n",
       "    </tr>\n",
       "    <tr>\n",
       "      <th>1</th>\n",
       "      <td>1.879</td>\n",
       "      <td>9885530946.56941</td>\n",
       "      <td>1.154</td>\n",
       "      <td>0.12</td>\n",
       "      <td>0.0</td>\n",
       "    </tr>\n",
       "    <tr>\n",
       "      <th>2</th>\n",
       "      <td>1.996</td>\n",
       "      <td>12473835142.429434</td>\n",
       "      <td>0.956</td>\n",
       "      <td>0.24</td>\n",
       "      <td>0.0</td>\n",
       "    </tr>\n",
       "    <tr>\n",
       "      <th>3</th>\n",
       "      <td>1.806</td>\n",
       "      <td>13835663789.71781</td>\n",
       "      <td>1.396</td>\n",
       "      <td>0.20</td>\n",
       "      <td>0.0</td>\n",
       "    </tr>\n",
       "    <tr>\n",
       "      <th>4</th>\n",
       "      <td>2.108</td>\n",
       "      <td>33884415613.920208</td>\n",
       "      <td>1.027</td>\n",
       "      <td>0.11</td>\n",
       "      <td>0.0</td>\n",
       "    </tr>\n",
       "    <tr>\n",
       "      <th>...</th>\n",
       "      <td>...</td>\n",
       "      <td>...</td>\n",
       "      <td>...</td>\n",
       "      <td>...</td>\n",
       "      <td>...</td>\n",
       "    </tr>\n",
       "    <tr>\n",
       "      <th>254</th>\n",
       "      <td>1.781</td>\n",
       "      <td>7063175542.629622</td>\n",
       "      <td>0.765</td>\n",
       "      <td>0.00</td>\n",
       "      <td>0.0</td>\n",
       "    </tr>\n",
       "    <tr>\n",
       "      <th>255</th>\n",
       "      <td>2.125</td>\n",
       "      <td>31117163371.0602</td>\n",
       "      <td>1.018</td>\n",
       "      <td>0.25</td>\n",
       "      <td>0.0</td>\n",
       "    </tr>\n",
       "    <tr>\n",
       "      <th>256</th>\n",
       "      <td>1.984</td>\n",
       "      <td>12078138351.067772</td>\n",
       "      <td>0.988</td>\n",
       "      <td>0.50</td>\n",
       "      <td>0.0</td>\n",
       "    </tr>\n",
       "    <tr>\n",
       "      <th>257</th>\n",
       "      <td>2.105</td>\n",
       "      <td>27925438412.373363</td>\n",
       "      <td>0.835</td>\n",
       "      <td>0.00</td>\n",
       "      <td>0.0</td>\n",
       "    </tr>\n",
       "    <tr>\n",
       "      <th>258</th>\n",
       "      <td>2.001</td>\n",
       "      <td>10399201658.290579</td>\n",
       "      <td>0.87</td>\n",
       "      <td>0.10</td>\n",
       "      <td>0.0</td>\n",
       "    </tr>\n",
       "  </tbody>\n",
       "</table>\n",
       "<p>259 rows × 5 columns</p>\n",
       "</div>"
      ],
      "text/plain": [
       "      Name                  M*   Reff  fDM(Reff)  sigma_fdm(Reff)\n",
       "0      NaN              [Msun]  [kpc]        NaN              NaN\n",
       "1    1.879    9885530946.56941  1.154       0.12              0.0\n",
       "2    1.996  12473835142.429434  0.956       0.24              0.0\n",
       "3    1.806   13835663789.71781  1.396       0.20              0.0\n",
       "4    2.108  33884415613.920208  1.027       0.11              0.0\n",
       "..     ...                 ...    ...        ...              ...\n",
       "254  1.781   7063175542.629622  0.765       0.00              0.0\n",
       "255  2.125    31117163371.0602  1.018       0.25              0.0\n",
       "256  1.984  12078138351.067772  0.988       0.50              0.0\n",
       "257  2.105  27925438412.373363  0.835       0.00              0.0\n",
       "258  2.001  10399201658.290579   0.87       0.10              0.0\n",
       "\n",
       "[259 rows x 5 columns]"
      ]
     },
     "execution_count": 14,
     "metadata": {},
     "output_type": "execute_result"
    }
   ],
   "source": [
    "# Writing the data into a CSV file\n",
    "with open('dataset/ATLAS3D.csv', 'w', newline='') as csvfile:\n",
    "    writer = csv.writer(csvfile)\n",
    "\n",
    "    # Writing the name line and the unit line\n",
    "    writer.writerow([\"Name\", \"M*\", \"Reff\",\"fDM(Reff)\", \"sigma_fdm(Reff)\"])\n",
    "    writer.writerow([\"None\", \"[Msun]\",\"[kpc]\", \"None\", \"None\"])\n",
    "\n",
    "    # Looping through each element of the data\n",
    "    for i in range(len(capXV)):\n",
    "        name = capXV[i,0]\n",
    "        Mass = M[i]\n",
    "\n",
    "        fDMeff = fDM[i]\n",
    "        Reff = R[i]\n",
    "        sigma_fdmeff = 0 #no errors provided\n",
    "        # Writing the data into the CSV file\n",
    "        writer.writerow([name, Mass, Reff, fDMeff, sigma_fdmeff])\n",
    "        \n",
    "# Reading the CSV file into a DataFrame\n",
    "cappellari = pd.read_csv('dataset/ATLAS3D.csv')\n",
    "cappellari"
   ]
  },
  {
   "cell_type": "code",
   "execution_count": null,
   "id": "2ac9a566-ceea-40bc-a943-5b16a0c03a37",
   "metadata": {},
   "outputs": [],
   "source": []
  }
 ],
 "metadata": {
  "kernelspec": {
   "display_name": "Python 3 (ipykernel)",
   "language": "python",
   "name": "python3"
  },
  "language_info": {
   "codemirror_mode": {
    "name": "ipython",
    "version": 3
   },
   "file_extension": ".py",
   "mimetype": "text/x-python",
   "name": "python",
   "nbconvert_exporter": "python",
   "pygments_lexer": "ipython3",
   "version": "3.11.7"
  }
 },
 "nbformat": 4,
 "nbformat_minor": 5
}

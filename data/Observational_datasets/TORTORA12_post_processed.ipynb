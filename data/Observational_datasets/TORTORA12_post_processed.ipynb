{
 "cells": [
  {
   "cell_type": "markdown",
   "id": "30c9b952-799a-4455-a2b4-8a7879d8d278",
   "metadata": {},
   "source": [
    "# Creating the dataset from Tortora 2012"
   ]
  },
  {
   "cell_type": "code",
   "execution_count": 2,
   "id": "b0bd8443-c7a1-4ae7-92d2-2a36dd528999",
   "metadata": {},
   "outputs": [],
   "source": [
    "import numpy as np\n",
    "import matplotlib.pyplot as plt\n",
    "from glob import glob\n",
    "import pandas as pd\n",
    "import csv"
   ]
  },
  {
   "cell_type": "markdown",
   "id": "1abf98a2-b3e4-4741-bcc3-f37263419e48",
   "metadata": {},
   "source": [
    "### Loading the data"
   ]
  },
  {
   "cell_type": "code",
   "execution_count": 3,
   "id": "625dcf9a-3be1-46b5-a582-ec30988556c2",
   "metadata": {},
   "outputs": [],
   "source": [
    "data = np.loadtxt('./raw_data/Tortora_2012.txt', skiprows = 1, delimiter=',',usecols=np.arange(0, 7))"
   ]
  },
  {
   "cell_type": "code",
   "execution_count": 4,
   "id": "e2e93076-8142-4206-aec4-eb6dc6679c48",
   "metadata": {},
   "outputs": [],
   "source": [
    "logML = data[:,0]\n",
    "M = 10**(logML)\n",
    "fDM = data[:,4]\n"
   ]
  },
  {
   "cell_type": "markdown",
   "id": "7c48581f-55bf-4acc-8063-3fde59d32248",
   "metadata": {},
   "source": [
    "### Making the final csv file"
   ]
  },
  {
   "cell_type": "code",
   "execution_count": 5,
   "id": "e1589960-1309-4dd0-8135-b06ecd635f01",
   "metadata": {},
   "outputs": [
    {
     "data": {
      "text/html": [
       "<div>\n",
       "<style scoped>\n",
       "    .dataframe tbody tr th:only-of-type {\n",
       "        vertical-align: middle;\n",
       "    }\n",
       "\n",
       "    .dataframe tbody tr th {\n",
       "        vertical-align: top;\n",
       "    }\n",
       "\n",
       "    .dataframe thead th {\n",
       "        text-align: right;\n",
       "    }\n",
       "</style>\n",
       "<table border=\"1\" class=\"dataframe\">\n",
       "  <thead>\n",
       "    <tr style=\"text-align: right;\">\n",
       "      <th></th>\n",
       "      <th>M*</th>\n",
       "      <th>fDM(Reff)</th>\n",
       "    </tr>\n",
       "  </thead>\n",
       "  <tbody>\n",
       "    <tr>\n",
       "      <th>0</th>\n",
       "      <td>[Msun]</td>\n",
       "      <td>NaN</td>\n",
       "    </tr>\n",
       "    <tr>\n",
       "      <th>1</th>\n",
       "      <td>12589254117.941662</td>\n",
       "      <td>0.35</td>\n",
       "    </tr>\n",
       "    <tr>\n",
       "      <th>2</th>\n",
       "      <td>17782794100.38923</td>\n",
       "      <td>0.30</td>\n",
       "    </tr>\n",
       "    <tr>\n",
       "      <th>3</th>\n",
       "      <td>31622776601.683792</td>\n",
       "      <td>0.20</td>\n",
       "    </tr>\n",
       "    <tr>\n",
       "      <th>4</th>\n",
       "      <td>56234132519.034904</td>\n",
       "      <td>0.25</td>\n",
       "    </tr>\n",
       "    <tr>\n",
       "      <th>5</th>\n",
       "      <td>100000000000.0</td>\n",
       "      <td>0.23</td>\n",
       "    </tr>\n",
       "    <tr>\n",
       "      <th>6</th>\n",
       "      <td>177827941003.89227</td>\n",
       "      <td>0.30</td>\n",
       "    </tr>\n",
       "    <tr>\n",
       "      <th>7</th>\n",
       "      <td>316227766016.8379</td>\n",
       "      <td>0.38</td>\n",
       "    </tr>\n",
       "  </tbody>\n",
       "</table>\n",
       "</div>"
      ],
      "text/plain": [
       "                   M*  fDM(Reff)\n",
       "0              [Msun]        NaN\n",
       "1  12589254117.941662       0.35\n",
       "2   17782794100.38923       0.30\n",
       "3  31622776601.683792       0.20\n",
       "4  56234132519.034904       0.25\n",
       "5      100000000000.0       0.23\n",
       "6  177827941003.89227       0.30\n",
       "7   316227766016.8379       0.38"
      ]
     },
     "execution_count": 5,
     "metadata": {},
     "output_type": "execute_result"
    }
   ],
   "source": [
    "# Writing the data into a CSV file\n",
    "with open('dataset/TORTORA12.csv', 'w', newline='') as csvfile:\n",
    "    writer = csv.writer(csvfile)\n",
    "\n",
    "    # Writing the name line and the unit line\n",
    "    writer.writerow([ \"M*\",\"fDM(Reff)\"])\n",
    "    writer.writerow([\"[Msun]\",\"None\"])\n",
    "\n",
    "    # Looping through each element of the data\n",
    "    for i in range(len(data)):\n",
    "        Mass = M[i]\n",
    "\n",
    "        fDMeff = fDM[i]\n",
    "\n",
    "        # Writing the data into the CSV file\n",
    "        writer.writerow([ Mass, fDMeff])\n",
    "        \n",
    "# Reading the CSV file into a DataFrame\n",
    "tortora = pd.read_csv('dataset/TORTORA12.csv')\n",
    "tortora"
   ]
  },
  {
   "cell_type": "code",
   "execution_count": null,
   "id": "7e0a6930-879e-4fb1-8cd7-5450f8aeb532",
   "metadata": {},
   "outputs": [],
   "source": []
  }
 ],
 "metadata": {
  "kernelspec": {
   "display_name": "Python 3 (ipykernel)",
   "language": "python",
   "name": "python3"
  },
  "language_info": {
   "codemirror_mode": {
    "name": "ipython",
    "version": 3
   },
   "file_extension": ".py",
   "mimetype": "text/x-python",
   "name": "python",
   "nbconvert_exporter": "python",
   "pygments_lexer": "ipython3",
   "version": "3.11.7"
  }
 },
 "nbformat": 4,
 "nbformat_minor": 5
}

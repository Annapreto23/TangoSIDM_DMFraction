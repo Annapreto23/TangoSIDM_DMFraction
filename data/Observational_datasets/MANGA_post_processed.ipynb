{
 "cells": [
  {
   "cell_type": "markdown",
   "id": "c1057a28-6baa-4d0a-b067-cf3d5dad566a",
   "metadata": {},
   "source": [
    "# Creating the dataset from MaNGa"
   ]
  },
  {
   "cell_type": "code",
   "execution_count": 1,
   "id": "e7899b0e-f188-4c53-970b-afc7238d1217",
   "metadata": {},
   "outputs": [],
   "source": [
    "import numpy as np\n",
    "import matplotlib.pyplot as plt\n",
    "from glob import glob\n",
    "import pandas as pd\n",
    "import csv"
   ]
  },
  {
   "cell_type": "markdown",
   "id": "0fcf2934-7ba3-4397-b775-45a21bffecde",
   "metadata": {},
   "source": [
    "### Loading the data"
   ]
  },
  {
   "cell_type": "code",
   "execution_count": 2,
   "id": "56aa84c4-62d9-4e30-9e8c-a294fbaa3dda",
   "metadata": {},
   "outputs": [],
   "source": [
    "df = pd.read_csv('./raw_data/MaNGA_Li_2023.csv')"
   ]
  },
  {
   "cell_type": "code",
   "execution_count": 4,
   "id": "39e6c42d-9a71-4b20-8099-9e107804a330",
   "metadata": {},
   "outputs": [],
   "source": [
    "M = 10**df['Mstellar']\n",
    "fDM = df['fDM(median)']\n",
    "higherror = df['fDM(84th)']\n",
    "lowerror = df['fDM(16th)']"
   ]
  },
  {
   "cell_type": "markdown",
   "id": "bc1606f9-c895-4fb4-a74e-df19991bcf94",
   "metadata": {},
   "source": [
    "### Making the final csv file"
   ]
  },
  {
   "cell_type": "code",
   "execution_count": 6,
   "id": "ab18b3f9-e5d4-474a-a3f7-010b426bcad7",
   "metadata": {},
   "outputs": [
    {
     "data": {
      "text/html": [
       "<div>\n",
       "<style scoped>\n",
       "    .dataframe tbody tr th:only-of-type {\n",
       "        vertical-align: middle;\n",
       "    }\n",
       "\n",
       "    .dataframe tbody tr th {\n",
       "        vertical-align: top;\n",
       "    }\n",
       "\n",
       "    .dataframe thead th {\n",
       "        text-align: right;\n",
       "    }\n",
       "</style>\n",
       "<table border=\"1\" class=\"dataframe\">\n",
       "  <thead>\n",
       "    <tr style=\"text-align: right;\">\n",
       "      <th></th>\n",
       "      <th>M*</th>\n",
       "      <th>fDM(Reff)</th>\n",
       "      <th>+sigma_fdm(Reff)</th>\n",
       "      <th>-sigma_fdm(Reff)</th>\n",
       "    </tr>\n",
       "  </thead>\n",
       "  <tbody>\n",
       "    <tr>\n",
       "      <th>0</th>\n",
       "      <td>[Msun]</td>\n",
       "      <td>NaN</td>\n",
       "      <td>NaN</td>\n",
       "      <td>NaN</td>\n",
       "    </tr>\n",
       "    <tr>\n",
       "      <th>1</th>\n",
       "      <td>1000000000.0</td>\n",
       "      <td>0.49</td>\n",
       "      <td>0.85</td>\n",
       "      <td>0.10</td>\n",
       "    </tr>\n",
       "    <tr>\n",
       "      <th>2</th>\n",
       "      <td>3162277660.1683793</td>\n",
       "      <td>0.50</td>\n",
       "      <td>0.83</td>\n",
       "      <td>0.12</td>\n",
       "    </tr>\n",
       "    <tr>\n",
       "      <th>3</th>\n",
       "      <td>10000000000.0</td>\n",
       "      <td>0.26</td>\n",
       "      <td>0.76</td>\n",
       "      <td>0.05</td>\n",
       "    </tr>\n",
       "    <tr>\n",
       "      <th>4</th>\n",
       "      <td>31622776601.683792</td>\n",
       "      <td>0.15</td>\n",
       "      <td>0.60</td>\n",
       "      <td>0.03</td>\n",
       "    </tr>\n",
       "    <tr>\n",
       "      <th>5</th>\n",
       "      <td>100000000000.0</td>\n",
       "      <td>0.08</td>\n",
       "      <td>0.35</td>\n",
       "      <td>0.02</td>\n",
       "    </tr>\n",
       "    <tr>\n",
       "      <th>6</th>\n",
       "      <td>316227766016.8379</td>\n",
       "      <td>0.12</td>\n",
       "      <td>0.27</td>\n",
       "      <td>0.03</td>\n",
       "    </tr>\n",
       "    <tr>\n",
       "      <th>7</th>\n",
       "      <td>1000000000000.0</td>\n",
       "      <td>0.11</td>\n",
       "      <td>0.30</td>\n",
       "      <td>0.04</td>\n",
       "    </tr>\n",
       "  </tbody>\n",
       "</table>\n",
       "</div>"
      ],
      "text/plain": [
       "                   M*  fDM(Reff)  +sigma_fdm(Reff)  -sigma_fdm(Reff)\n",
       "0              [Msun]        NaN               NaN               NaN\n",
       "1        1000000000.0       0.49              0.85              0.10\n",
       "2  3162277660.1683793       0.50              0.83              0.12\n",
       "3       10000000000.0       0.26              0.76              0.05\n",
       "4  31622776601.683792       0.15              0.60              0.03\n",
       "5      100000000000.0       0.08              0.35              0.02\n",
       "6   316227766016.8379       0.12              0.27              0.03\n",
       "7     1000000000000.0       0.11              0.30              0.04"
      ]
     },
     "execution_count": 6,
     "metadata": {},
     "output_type": "execute_result"
    }
   ],
   "source": [
    "# Writing the data into a CSV file\n",
    "with open('dataset/MANGA.csv', 'w', newline='') as csvfile:\n",
    "    writer = csv.writer(csvfile)\n",
    "\n",
    "    # Writing the name line and the unit line\n",
    "    writer.writerow([ \"M*\",\"fDM(Reff)\", \"+sigma_fdm(Reff)\", \"-sigma_fdm(Reff)\"])\n",
    "    writer.writerow([\"[Msun]\",\"None\", \"None\", \"None\"])\n",
    "\n",
    "    # Looping through each element of the data\n",
    "    for i in range(len(M)):\n",
    "        Mass = M[i]\n",
    "\n",
    "        fDMeff = fDM[i]\n",
    "        psigma_fdmeff = higherror[i]\n",
    "        msigma_fdmeff = lowerror[i]\n",
    "        # Writing the data into the CSV file\n",
    "        writer.writerow([ Mass, fDMeff, psigma_fdmeff, msigma_fdmeff])\n",
    "        \n",
    "# Reading the CSV file into a DataFrame\n",
    "manga = pd.read_csv('dataset/MANGA.csv')\n",
    "manga"
   ]
  },
  {
   "cell_type": "code",
   "execution_count": null,
   "id": "3dd23594-6ca0-4c43-95df-5b3bf3c37dd5",
   "metadata": {},
   "outputs": [],
   "source": []
  }
 ],
 "metadata": {
  "kernelspec": {
   "display_name": "Python 3 (ipykernel)",
   "language": "python",
   "name": "python3"
  },
  "language_info": {
   "codemirror_mode": {
    "name": "ipython",
    "version": 3
   },
   "file_extension": ".py",
   "mimetype": "text/x-python",
   "name": "python",
   "nbconvert_exporter": "python",
   "pygments_lexer": "ipython3",
   "version": "3.11.7"
  }
 },
 "nbformat": 4,
 "nbformat_minor": 5
}

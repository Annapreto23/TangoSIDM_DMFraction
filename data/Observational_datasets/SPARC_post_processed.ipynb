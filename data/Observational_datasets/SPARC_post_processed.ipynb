{
 "cells": [
  {
   "cell_type": "markdown",
   "id": "6d1496bb-29fc-4cc8-8642-8100f188e268",
   "metadata": {},
   "source": [
    "# Creating the dataset from SPARC"
   ]
  },
  {
   "cell_type": "code",
   "execution_count": 6,
   "id": "f9fbc726-0403-4cde-815d-4b0faa831646",
   "metadata": {},
   "outputs": [],
   "source": [
    "import numpy as np\n",
    "import matplotlib.pyplot as plt\n",
    "from glob import glob\n",
    "import pandas as pd\n",
    "import csv"
   ]
  },
  {
   "cell_type": "markdown",
   "id": "a9fa1c0c-c890-4c12-a9b9-bd8dad8e698c",
   "metadata": {},
   "source": [
    "### Loading the two samples"
   ]
  },
  {
   "cell_type": "code",
   "execution_count": 3,
   "id": "54172619-2ea0-475e-a765-682aff809d2f",
   "metadata": {},
   "outputs": [
    {
     "name": "stdout",
     "output_type": "stream",
     "text": [
      "175 galaxies found\n"
     ]
    }
   ],
   "source": [
    "# Sample from table 2 : http://astroweb.cwru.edu/SPARC/ (for the velocity curves)\n",
    "\n",
    "files = './raw_data/SPARC_rotational_curves/*.dat'\n",
    "data = glob(files)\n",
    "print(\"{} galaxies found\".format(len(data)))\n",
    "\n",
    "# Sample from table 1 : http://astroweb.cwru.edu/SPARC/ (for the luminosities [3.6] and effective radii)\n",
    "\n",
    "df = pd.read_csv('./raw_data/SPARC_data_mass_models.csv')"
   ]
  },
  {
   "cell_type": "markdown",
   "id": "c4a6cfe3-a2df-4e36-98c9-6165d3c5185a",
   "metadata": {},
   "source": [
    "### Useful functions"
   ]
  },
  {
   "cell_type": "code",
   "execution_count": 4,
   "id": "aecbf664-6170-4d7f-ab15-c9e5e23d4aaf",
   "metadata": {},
   "outputs": [],
   "source": [
    "def finding_index(name):\n",
    "    return data.index('./raw_data/SPARC_rotational_curves/' + name + '_rotmod.dat')\n",
    "i = finding_index('CamB')\n",
    "\n",
    "def finding_name(galaxy):\n",
    "    return galaxy.name"
   ]
  },
  {
   "cell_type": "markdown",
   "id": "0100b5bb-b8f5-422a-baad-df8ff598643f",
   "metadata": {},
   "source": [
    "### Merging the two data samples and calculating stellar masses and dark matter fraction"
   ]
  },
  {
   "cell_type": "code",
   "execution_count": 18,
   "id": "47605d74-73ea-4d37-9d85-3f8abdd81976",
   "metadata": {},
   "outputs": [
    {
     "name": "stdout",
     "output_type": "stream",
     "text": [
      "[0.3641071  0.4184481  0.43746365 0.39837031 0.38245181 0.39030169\n",
      " 0.43111604 0.45193686] 70650500000.0\n"
     ]
    }
   ],
   "source": [
    "# Parameters in http://astroweb.cwru.edu/SPARC/\n",
    "\n",
    "gammadisk = 0.5\n",
    "gammabul = 0.7\n",
    "\n",
    "\n",
    "# Calculating the stellar masses assuming M/L ratio is equal to 0.5 (Lelli 2016)\n",
    "\n",
    "M = 0.5*df['L3_6']*10**9\n",
    "\n",
    "\n",
    "class galaxy():\n",
    "    def __init__(self, i):\n",
    "        # Constructor method to initialize a galaxy object with index i\n",
    "        self.index = i \n",
    "        # Index of the galaxy\n",
    "        self.name = data[i].split('/')[-1].split('_')[0]\n",
    "        # Extracting the name of the galaxy from the data file path\n",
    "        self.radius = np.loadtxt(data[i])[:, 0]\n",
    "        # Loading radius data from the data file\n",
    "        self.Vobs = np.loadtxt(data[i])[:, 1]\n",
    "        # Loading observed velocity data from the data file\n",
    "        self.errV = np.loadtxt(data[i])[:, 2]\n",
    "        # Loading error in velocity data from the data file\n",
    "        self.Vgas = np.loadtxt(data[i])[:, 3]\n",
    "        # Loading gas velocity data from the data file\n",
    "        self.Vdisk = np.loadtxt(data[i])[:, 4]\n",
    "        # Loading disk velocity data from the data file\n",
    "        self.Vbul = np.loadtxt(data[i])[:, 5]\n",
    "        # Loading bulge velocity data from the data file\n",
    "        self.SBdisk = np.loadtxt(data[i])[:, 6]\n",
    "        # Loading disk surface brightness data from the data file\n",
    "        self.SBbul = np.loadtxt(data[i])[:, 7]\n",
    "        # Loading bulge surface brightness data from the data file\n",
    "        self.Vbar = None\n",
    "        # Initializing attribute for baryons velocity\n",
    "        self.fDM = None\n",
    "        # Initializing attribute for dark matter fraction\n",
    "        self.stellarmass = None\n",
    "        # Initializing attribute for stellar mass\n",
    "        self.effRad = None\n",
    "        # Initializing attribute for effective radius\n",
    "    \n",
    "\n",
    "    def add_Vbar(self):\n",
    "        # Method to calculate the velocity of the baryons\n",
    "        Vbar = np.sqrt(abs(self.Vgas) * self.Vgas + gammadisk * abs(self.Vdisk) * self.Vdisk + gammabul * abs(self.Vbul) * self.Vbul)\n",
    "        # Calculating the velocity of the baryons\n",
    "        self.Vbar = Vbar\n",
    "        return 1\n",
    "        \n",
    "    def add_fDM(self):\n",
    "        # Method to calculate dark matter fraction\n",
    "        if self.Vbar == None:\n",
    "           self.add_Vbar() \n",
    "        # Checking if the velocity of the baryons has been calculated, if not, calculate it\n",
    "        fDM = (self.Vobs**2 - self.Vbar**2) / (self.Vobs**2)\n",
    "        # Calculating dark matter fraction\n",
    "        self.fDM = fDM\n",
    "        # Assigning calculated dark matter fraction to attribute\n",
    "        return 1\n",
    "        \n",
    "    def isintwo(self):\n",
    "        # Method to check if galaxy is in the two data samples\n",
    "        if (len(np.where(df['Name'] == self.name)[0]) == 1):\n",
    "            j = np.where(df['Name'] == self.name)[0][0]\n",
    "            if (df['Qual'].iloc[j] == 1) and (df['Type'].iloc[j] < 10):\n",
    "                return 1\n",
    "            else:\n",
    "                return 0\n",
    "        else:\n",
    "            return 0\n",
    "            \n",
    "    def add_stellarmass(self):\n",
    "        # Method to add stellar mass data (in solar mass)\n",
    "        if len(np.where(df['Name'] == self.name)[0]) != 0:\n",
    "            # Checking if galaxy is in the two data samples\n",
    "            Mass = M[np.where(df['Name'] == self.name)[0][0]]\n",
    "            # Getting stellar mass from pre-calculated data\n",
    "            self.stellarmass = Mass\n",
    "            # Assigning stellar mass to attribute\n",
    "        return 1\n",
    "        \n",
    "    def add_effRad(self):\n",
    "        # Method to add effective radius data (in kpc)\n",
    "        if len(np.where(df['Name'] == self.name)[0]) != 0:\n",
    "            # Checking if galaxy is in the two data samples\n",
    "            R = df['Reff'][np.where(df['Name'] == self.name)[0][0]]\n",
    "            # Getting effective radius\n",
    "            self.effRad = R\n",
    "            # Assigning effective radius to attribute\n",
    "        return 1\n",
    "\n",
    "\n",
    "# Testing\n",
    "\n",
    "firstgal = galaxy(i)\n",
    "\n",
    "firstgal.add_fDM()\n",
    "firstgal.add_stellarmass()\n",
    "firstgal.add_effRad()\n",
    "\n",
    "\n",
    "print(firstgal.fDM, firstgal.stellarmass)"
   ]
  },
  {
   "cell_type": "markdown",
   "id": "a851959e-fc38-4329-a2a5-15e033e4a225",
   "metadata": {},
   "source": [
    "### Making the final csv file"
   ]
  },
  {
   "cell_type": "code",
   "execution_count": 19,
   "id": "df9687e9-5956-44d4-b104-bbb906c65093",
   "metadata": {},
   "outputs": [
    {
     "name": "stdout",
     "output_type": "stream",
     "text": [
      "0.3641071029577853, 0.41844809507631825, 0.43746364776234553, 0.3983703110860865, 0.38245180564413267, 0.39030169116612046, 0.4311160355548469, 0.4519368566792862\n"
     ]
    }
   ],
   "source": [
    "# Open a CSV file for writing\n",
    "with open('dataset/SPARC.csv', 'w', newline='') as csvfile:\n",
    "    writer = csv.writer(csvfile, delimiter = ',')\n",
    "\n",
    "    # Write the name line and the unit line\n",
    "    writer.writerow([\"Name\", \"M*\", \"Reff\", \"fDM(Reff)\", \"sigma_fdm(Reff)\", \"fDM\", \"sigma_fdm\", \"Radius\"])\n",
    "    writer.writerow([\"(SDSS)\", \"[Msun]\", \"[kpc]\", \"None\", \"None\", \"None\", \"None\", \"[kpc]\"])\n",
    "\n",
    "    # Loop through each element of data\n",
    "    for i in range(len(data)):\n",
    "        firstgal = galaxy(i)\n",
    "        if firstgal.isintwo():\n",
    "            firstgal.add_fDM()\n",
    "            firstgal.add_stellarmass()\n",
    "            firstgal.add_effRad()\n",
    "\n",
    "            # Extracting necessary data\n",
    "            name = firstgal.name\n",
    "            errV = firstgal.errV\n",
    "            Mass = firstgal.stellarmass\n",
    "            effRad = firstgal.effRad\n",
    "            rad = firstgal.radius\n",
    "            rad_str = \", \".join(map(str, rad))  # Convert the NumPy array to a string\n",
    "            fDM = firstgal.fDM\n",
    "            fDM_str = \", \".join(map(str, fDM))\n",
    "            fDMeff = np.interp(effRad, rad, firstgal.fDM)\n",
    "            sigma_fdm = np.sqrt((2 * firstgal.Vbar**2 / firstgal.Vobs**3 * errV)**2)\n",
    "            sigma_fdm_str = \", \".join(map(str, sigma_fdm))\n",
    "            sigma_fdmeff = np.sqrt((2 * np.interp(effRad, rad, firstgal.Vbar)**2 / np.interp(effRad, rad, firstgal.Vobs)**3 * np.interp(effRad, rad, errV))**2)\n",
    "\n",
    "            # Write the data to the CSV file with commas as separators\n",
    "            writer.writerow([name, Mass, effRad, fDMeff, sigma_fdmeff , fDM_str, sigma_fdm_str, rad_str])\n",
    "            \n",
    "# Read the CSV file into a DataFrame\n",
    "sparc = pd.read_csv('dataset/SPARC.csv')\n",
    "# Test\n",
    "print(sparc['fDM'].iloc[1])\n"
   ]
  }
 ],
 "metadata": {
  "kernelspec": {
   "display_name": "Python 3 (ipykernel)",
   "language": "python",
   "name": "python3"
  },
  "language_info": {
   "codemirror_mode": {
    "name": "ipython",
    "version": 3
   },
   "file_extension": ".py",
   "mimetype": "text/x-python",
   "name": "python",
   "nbconvert_exporter": "python",
   "pygments_lexer": "ipython3",
   "version": "3.11.7"
  }
 },
 "nbformat": 4,
 "nbformat_minor": 5
}

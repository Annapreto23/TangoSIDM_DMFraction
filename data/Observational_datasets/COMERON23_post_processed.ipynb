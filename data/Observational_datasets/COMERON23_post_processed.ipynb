{
 "cells": [
  {
   "cell_type": "markdown",
   "id": "30c9b952-799a-4455-a2b4-8a7879d8d278",
   "metadata": {},
   "source": [
    "# Creating the dataset from Comeron 2023"
   ]
  },
  {
   "cell_type": "code",
   "execution_count": 12,
   "id": "b0bd8443-c7a1-4ae7-92d2-2a36dd528999",
   "metadata": {},
   "outputs": [],
   "source": [
    "import numpy as np\n",
    "import matplotlib.pyplot as plt\n",
    "from glob import glob\n",
    "import pandas as pd\n",
    "import csv"
   ]
  },
  {
   "cell_type": "markdown",
   "id": "1abf98a2-b3e4-4741-bcc3-f37263419e48",
   "metadata": {},
   "source": [
    "### Loading the data"
   ]
  },
  {
   "cell_type": "code",
   "execution_count": 13,
   "id": "625dcf9a-3be1-46b5-a582-ec30988556c2",
   "metadata": {},
   "outputs": [],
   "source": [
    "data = np.loadtxt('./raw_data/Comeron_2023.txt', skiprows = 1, delimiter=',',usecols=np.arange(1, 6))"
   ]
  },
  {
   "cell_type": "code",
   "execution_count": 14,
   "id": "77e58d45-06ee-4c5b-bb8c-cca6a8f02c29",
   "metadata": {},
   "outputs": [],
   "source": [
    "M = data[:,0]\n",
    "R = data[:,1]\n",
    "fDM = data[:,2]\n",
    "higherror = data[:,3]\n",
    "lowerror = data[:,4]"
   ]
  },
  {
   "cell_type": "markdown",
   "id": "40ed50b1-aa7a-4056-a23b-cb32b528fcf8",
   "metadata": {},
   "source": [
    "### Making the final csv file"
   ]
  },
  {
   "cell_type": "code",
   "execution_count": 16,
   "id": "d6572640-1bf2-4923-a41a-f6dc4318e7ef",
   "metadata": {},
   "outputs": [
    {
     "data": {
      "text/html": [
       "<div>\n",
       "<style scoped>\n",
       "    .dataframe tbody tr th:only-of-type {\n",
       "        vertical-align: middle;\n",
       "    }\n",
       "\n",
       "    .dataframe tbody tr th {\n",
       "        vertical-align: top;\n",
       "    }\n",
       "\n",
       "    .dataframe thead th {\n",
       "        text-align: right;\n",
       "    }\n",
       "</style>\n",
       "<table border=\"1\" class=\"dataframe\">\n",
       "  <thead>\n",
       "    <tr style=\"text-align: right;\">\n",
       "      <th></th>\n",
       "      <th>M*</th>\n",
       "      <th>fDM(Reff)</th>\n",
       "      <th>Reff</th>\n",
       "      <th>+sigma_fdm(Reff)</th>\n",
       "      <th>-sigma_fdm(Reff)</th>\n",
       "    </tr>\n",
       "  </thead>\n",
       "  <tbody>\n",
       "    <tr>\n",
       "      <th>0</th>\n",
       "      <td>[Msun]</td>\n",
       "      <td>NaN</td>\n",
       "      <td>kpc</td>\n",
       "      <td>NaN</td>\n",
       "      <td>NaN</td>\n",
       "    </tr>\n",
       "    <tr>\n",
       "      <th>1</th>\n",
       "      <td>13000000000.0</td>\n",
       "      <td>0.02</td>\n",
       "      <td>1.2</td>\n",
       "      <td>0.00</td>\n",
       "      <td>0.00</td>\n",
       "    </tr>\n",
       "    <tr>\n",
       "      <th>2</th>\n",
       "      <td>290000000000.0</td>\n",
       "      <td>0.10</td>\n",
       "      <td>4.2</td>\n",
       "      <td>0.13</td>\n",
       "      <td>0.08</td>\n",
       "    </tr>\n",
       "  </tbody>\n",
       "</table>\n",
       "</div>"
      ],
      "text/plain": [
       "               M*  fDM(Reff) Reff  +sigma_fdm(Reff)  -sigma_fdm(Reff)\n",
       "0          [Msun]        NaN  kpc               NaN               NaN\n",
       "1   13000000000.0       0.02  1.2              0.00              0.00\n",
       "2  290000000000.0       0.10  4.2              0.13              0.08"
      ]
     },
     "execution_count": 16,
     "metadata": {},
     "output_type": "execute_result"
    }
   ],
   "source": [
    "# Writing the data into a CSV file\n",
    "with open('dataset/COMERON23.csv', 'w', newline='') as csvfile:\n",
    "    writer = csv.writer(csvfile)\n",
    "\n",
    "    # Writing the name line and the unit line\n",
    "    writer.writerow([ \"M*\",\"fDM(Reff)\", \"Reff\", \"+sigma_fdm(Reff)\", \"-sigma_fdm(Reff)\"])\n",
    "    writer.writerow([\"[Msun]\",\"None\", \"kpc\", \"None\", \"None\"])\n",
    "\n",
    "    # Looping through each element of the data\n",
    "    for i in range(len(data)):\n",
    "        Mass = M[i]\n",
    "        Reff = R[i]\n",
    "        fDMeff = fDM[i]\n",
    "        psigma_fdmeff = higherror[i]\n",
    "        msigma_fdmeff = lowerror[i]\n",
    "        # Writing the data into the CSV file\n",
    "        writer.writerow([ Mass, fDMeff, Reff, psigma_fdmeff, msigma_fdmeff])\n",
    "        \n",
    "# Reading the CSV file into a DataFrame\n",
    "cameron = pd.read_csv('dataset/CAMERON23.csv')\n",
    "cameron"
   ]
  },
  {
   "cell_type": "code",
   "execution_count": null,
   "id": "c273e4f0-23a7-4999-a847-eb12bb900079",
   "metadata": {},
   "outputs": [],
   "source": []
  }
 ],
 "metadata": {
  "kernelspec": {
   "display_name": "Python 3 (ipykernel)",
   "language": "python",
   "name": "python3"
  },
  "language_info": {
   "codemirror_mode": {
    "name": "ipython",
    "version": 3
   },
   "file_extension": ".py",
   "mimetype": "text/x-python",
   "name": "python",
   "nbconvert_exporter": "python",
   "pygments_lexer": "ipython3",
   "version": "3.11.7"
  }
 },
 "nbformat": 4,
 "nbformat_minor": 5
}

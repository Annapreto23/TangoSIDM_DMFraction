{
 "cells": [
  {
   "cell_type": "markdown",
   "id": "30c9b952-799a-4455-a2b4-8a7879d8d278",
   "metadata": {},
   "source": [
    "# Creating the dataset from Barnabe 2011"
   ]
  },
  {
   "cell_type": "code",
   "execution_count": 32,
   "id": "b0bd8443-c7a1-4ae7-92d2-2a36dd528999",
   "metadata": {},
   "outputs": [],
   "source": [
    "import numpy as np\n",
    "import matplotlib.pyplot as plt\n",
    "from glob import glob\n",
    "import pandas as pd\n",
    "import csv"
   ]
  },
  {
   "cell_type": "markdown",
   "id": "1abf98a2-b3e4-4741-bcc3-f37263419e48",
   "metadata": {},
   "source": [
    "### Loading the data"
   ]
  },
  {
   "cell_type": "code",
   "execution_count": 33,
   "id": "625dcf9a-3be1-46b5-a582-ec30988556c2",
   "metadata": {},
   "outputs": [],
   "source": [
    "data = np.loadtxt('./raw_data/Barnabe_2011.txt', skiprows = 1, delimiter=',',usecols=np.arange(1, 11))\n",
    "datasup = pd.read_csv('./raw_data/Auger_2009.csv')"
   ]
  },
  {
   "cell_type": "code",
   "execution_count": 34,
   "id": "25920ec0-8ab5-4138-93f1-f02a8ab53016",
   "metadata": {},
   "outputs": [],
   "source": [
    "cond = np.array([2,6,17,18,24,40,43,62,69,77,78,80,81])"
   ]
  },
  {
   "cell_type": "code",
   "execution_count": 42,
   "id": "e2e93076-8142-4206-aec4-eb6dc6679c48",
   "metadata": {},
   "outputs": [],
   "source": [
    "logML = datasup['logMc'].values[cond]\n",
    "M = 10**(logML)\n",
    "fDM = data[:-3,3]\n",
    "higherror = data[:-3,4]\n",
    "lowerror = data[:-3,5]"
   ]
  },
  {
   "cell_type": "markdown",
   "id": "0b1e9181-3c73-4492-91f2-30ab82a3ad1b",
   "metadata": {},
   "source": [
    "### Making the final csv file"
   ]
  },
  {
   "cell_type": "code",
   "execution_count": 43,
   "id": "dd690984-8300-49bb-b488-b020883ba6eb",
   "metadata": {},
   "outputs": [
    {
     "data": {
      "text/html": [
       "<div>\n",
       "<style scoped>\n",
       "    .dataframe tbody tr th:only-of-type {\n",
       "        vertical-align: middle;\n",
       "    }\n",
       "\n",
       "    .dataframe tbody tr th {\n",
       "        vertical-align: top;\n",
       "    }\n",
       "\n",
       "    .dataframe thead th {\n",
       "        text-align: right;\n",
       "    }\n",
       "</style>\n",
       "<table border=\"1\" class=\"dataframe\">\n",
       "  <thead>\n",
       "    <tr style=\"text-align: right;\">\n",
       "      <th></th>\n",
       "      <th>M*</th>\n",
       "      <th>fDM(Reff)</th>\n",
       "      <th>+sigma_fdm(Reff)</th>\n",
       "      <th>-sigma_fdm(Reff)</th>\n",
       "    </tr>\n",
       "  </thead>\n",
       "  <tbody>\n",
       "    <tr>\n",
       "      <th>0</th>\n",
       "      <td>[Msun]</td>\n",
       "      <td>NaN</td>\n",
       "      <td>NaN</td>\n",
       "      <td>NaN</td>\n",
       "    </tr>\n",
       "    <tr>\n",
       "      <th>1</th>\n",
       "      <td>301995172040.2019</td>\n",
       "      <td>0.66</td>\n",
       "      <td>0.04</td>\n",
       "      <td>-0.05</td>\n",
       "    </tr>\n",
       "    <tr>\n",
       "      <th>2</th>\n",
       "      <td>616595001861.481</td>\n",
       "      <td>0.83</td>\n",
       "      <td>0.03</td>\n",
       "      <td>-0.03</td>\n",
       "    </tr>\n",
       "    <tr>\n",
       "      <th>3</th>\n",
       "      <td>512861383991.36584</td>\n",
       "      <td>0.77</td>\n",
       "      <td>0.03</td>\n",
       "      <td>-0.04</td>\n",
       "    </tr>\n",
       "    <tr>\n",
       "      <th>4</th>\n",
       "      <td>524807460249.7734</td>\n",
       "      <td>0.81</td>\n",
       "      <td>0.03</td>\n",
       "      <td>-0.03</td>\n",
       "    </tr>\n",
       "    <tr>\n",
       "      <th>5</th>\n",
       "      <td>81283051616.40994</td>\n",
       "      <td>0.71</td>\n",
       "      <td>0.04</td>\n",
       "      <td>-0.05</td>\n",
       "    </tr>\n",
       "    <tr>\n",
       "      <th>6</th>\n",
       "      <td>301995172040.2019</td>\n",
       "      <td>0.57</td>\n",
       "      <td>0.06</td>\n",
       "      <td>-0.11</td>\n",
       "    </tr>\n",
       "    <tr>\n",
       "      <th>7</th>\n",
       "      <td>338844156139.202</td>\n",
       "      <td>0.35</td>\n",
       "      <td>0.10</td>\n",
       "      <td>-0.08</td>\n",
       "    </tr>\n",
       "    <tr>\n",
       "      <th>8</th>\n",
       "      <td>147910838816.8207</td>\n",
       "      <td>0.51</td>\n",
       "      <td>0.07</td>\n",
       "      <td>-0.09</td>\n",
       "    </tr>\n",
       "    <tr>\n",
       "      <th>9</th>\n",
       "      <td>281838293126.44495</td>\n",
       "      <td>0.50</td>\n",
       "      <td>0.09</td>\n",
       "      <td>-0.11</td>\n",
       "    </tr>\n",
       "    <tr>\n",
       "      <th>10</th>\n",
       "      <td>158489319246.11108</td>\n",
       "      <td>0.62</td>\n",
       "      <td>0.05</td>\n",
       "      <td>-0.06</td>\n",
       "    </tr>\n",
       "    <tr>\n",
       "      <th>11</th>\n",
       "      <td>251188643150.95822</td>\n",
       "      <td>0.69</td>\n",
       "      <td>0.05</td>\n",
       "      <td>-0.05</td>\n",
       "    </tr>\n",
       "    <tr>\n",
       "      <th>12</th>\n",
       "      <td>295120922666.639</td>\n",
       "      <td>0.69</td>\n",
       "      <td>0.04</td>\n",
       "      <td>-0.05</td>\n",
       "    </tr>\n",
       "    <tr>\n",
       "      <th>13</th>\n",
       "      <td>223872113856.83377</td>\n",
       "      <td>0.51</td>\n",
       "      <td>0.08</td>\n",
       "      <td>-0.10</td>\n",
       "    </tr>\n",
       "  </tbody>\n",
       "</table>\n",
       "</div>"
      ],
      "text/plain": [
       "                    M*  fDM(Reff)  +sigma_fdm(Reff)  -sigma_fdm(Reff)\n",
       "0               [Msun]        NaN               NaN               NaN\n",
       "1    301995172040.2019       0.66              0.04             -0.05\n",
       "2     616595001861.481       0.83              0.03             -0.03\n",
       "3   512861383991.36584       0.77              0.03             -0.04\n",
       "4    524807460249.7734       0.81              0.03             -0.03\n",
       "5    81283051616.40994       0.71              0.04             -0.05\n",
       "6    301995172040.2019       0.57              0.06             -0.11\n",
       "7     338844156139.202       0.35              0.10             -0.08\n",
       "8    147910838816.8207       0.51              0.07             -0.09\n",
       "9   281838293126.44495       0.50              0.09             -0.11\n",
       "10  158489319246.11108       0.62              0.05             -0.06\n",
       "11  251188643150.95822       0.69              0.05             -0.05\n",
       "12    295120922666.639       0.69              0.04             -0.05\n",
       "13  223872113856.83377       0.51              0.08             -0.10"
      ]
     },
     "execution_count": 43,
     "metadata": {},
     "output_type": "execute_result"
    }
   ],
   "source": [
    "# Writing the data into a CSV file\n",
    "with open('dataset/BARNABE11.csv', 'w', newline='') as csvfile:\n",
    "    writer = csv.writer(csvfile)\n",
    "\n",
    "    # Writing the name line and the unit line\n",
    "    writer.writerow([ \"M*\",\"fDM(Reff)\", \"+sigma_fdm(Reff)\", \"-sigma_fdm(Reff)\"])\n",
    "    writer.writerow([\"[Msun]\",\"None\", \"None\", \"None\"])\n",
    "\n",
    "    # Looping through each element of the data\n",
    "    for i in range(len(data)):\n",
    "        Mass = M[i]\n",
    "\n",
    "        fDMeff = fDM[i]\n",
    "        psigma_fdmeff = higherror[i]\n",
    "        msigma_fdmeff = lowerror[i]\n",
    "        # Writing the data into the CSV file\n",
    "        writer.writerow([ Mass, fDMeff, psigma_fdmeff, msigma_fdmeff])\n",
    "        \n",
    "# Reading the CSV file into a DataFrame\n",
    "barnabe = pd.read_csv('dataset/BARNABE11.csv')\n",
    "barnabe"
   ]
  },
  {
   "cell_type": "code",
   "execution_count": null,
   "id": "1692b412-62c8-4304-ac3f-7c02c8149949",
   "metadata": {},
   "outputs": [],
   "source": []
  }
 ],
 "metadata": {
  "kernelspec": {
   "display_name": "Python 3 (ipykernel)",
   "language": "python",
   "name": "python3"
  },
  "language_info": {
   "codemirror_mode": {
    "name": "ipython",
    "version": 3
   },
   "file_extension": ".py",
   "mimetype": "text/x-python",
   "name": "python",
   "nbconvert_exporter": "python",
   "pygments_lexer": "ipython3",
   "version": "3.11.7"
  }
 },
 "nbformat": 4,
 "nbformat_minor": 5
}

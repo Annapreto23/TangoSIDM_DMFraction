{
 "cells": [
  {
   "cell_type": "markdown",
   "id": "30c9b952-799a-4455-a2b4-8a7879d8d278",
   "metadata": {},
   "source": [
    "# Creating the dataset from Barnabe 2011"
   ]
  },
  {
   "cell_type": "code",
   "execution_count": 6,
   "id": "b0bd8443-c7a1-4ae7-92d2-2a36dd528999",
   "metadata": {},
   "outputs": [],
   "source": [
    "import numpy as np\n",
    "import matplotlib.pyplot as plt\n",
    "import pandas as pd\n",
    "import csv\n",
    "from astropy.cosmology import FlatLambdaCDM\n",
    "cosmo = FlatLambdaCDM(H0=67.8, Om0=0.308) # Assuming a cosmology"
   ]
  },
  {
   "cell_type": "markdown",
   "id": "1abf98a2-b3e4-4741-bcc3-f37263419e48",
   "metadata": {},
   "source": [
    "### Loading the data"
   ]
  },
  {
   "cell_type": "code",
   "execution_count": null,
   "id": "625dcf9a-3be1-46b5-a582-ec30988556c2",
   "metadata": {},
   "outputs": [],
   "source": [
    "# data = np.loadtxt('./raw_data/Barnabe_2011.txt', delimiter=',',usecols=[4,5,6], skiprows = 1)\n",
    "# GalaxyNamesvalues = np.loadtxt('./raw_data/Barnabe_2011.txt', usecols=[0],delimiter=',' ,dtype='str', skiprows = 1)\n",
    "# datasup = pd.read_csv('./raw_data/Auger_2009.csv').to_numpy()\n",
    "# GalaxyNames_Auger09 = datasup[:,0]\n",
    "# GalaxyNames = []\n",
    "\n",
    "# for i in range(len(GalaxyNamesvalues)):\n",
    "#     if str(GalaxyNamesvalues[i])[9] == '+':\n",
    "#         GalaxyNames.append(str(GalaxyNamesvalues[i])[4:])\n",
    "#     else:\n",
    "#         GalaxyNames.append(str(GalaxyNamesvalues[i])[4:9]+'-'+str(GalaxyNamesvalues[i])[10:])\n",
    "        \n",
    "        \n",
    "        \n",
    "\n",
    "# # We cross match to retrieve stellar masses\n",
    "# _, _, indx_Aug = np.intersect1d(GalaxyNames, GalaxyNames_Auger09, assume_unique=True, return_indices=True,)\n"
   ]
  },
  {
   "cell_type": "code",
   "execution_count": 2,
   "id": "5bc7c1f2-5dd2-459f-8bb8-997d46ba72ec",
   "metadata": {},
   "outputs": [],
   "source": [
    "data = np.loadtxt('./raw_data/Barnabe_2011.txt', delimiter=',',usecols=[4,5,6], skiprows = 1)\n",
    "GalaxyNames_Barnabe = np.loadtxt('./raw_data/Barnabe_2011.txt', usecols=[0],delimiter=',' ,dtype='str', skiprows = 1)\n",
    "datasup = pd.read_csv('./raw_data/Auger_2009.csv').to_numpy()\n",
    "GalaxyNames_Auger09 = datasup[:,0]\n",
    "# We cross match to retrieve stellar masses\n",
    "_, _, indx_Aug = np.intersect1d(GalaxyNames_Barnabe, GalaxyNames_Auger09, assume_unique=True, return_indices=True,)"
   ]
  },
  {
   "cell_type": "code",
   "execution_count": 3,
   "id": "e2e93076-8142-4206-aec4-eb6dc6679c48",
   "metadata": {},
   "outputs": [],
   "source": [
    "logML = datasup[indx_Aug,2] # logMstellar [Msun] - IMF:Chabrier\n",
    "M = 10**(logML) #Mstellar [Msun]\n",
    "fDM = data[:,0]\n",
    "higherror = data[:,1]\n",
    "lowerror = np.abs(data[:,2])\n",
    "error = np.array([lowerror,higherror])"
   ]
  },
  {
   "cell_type": "code",
   "execution_count": 8,
   "id": "d3e3c743-9cf2-456a-905b-039a92b68489",
   "metadata": {},
   "outputs": [],
   "source": [
    "# Cross match with https://ui.adsabs.harvard.edu/abs/2008ApJ...682..964B/abstract to get effective radii\n",
    "#Reff = np.array([2.19,2.67,3.87,4.25,1.39,1.47,1.81,2.48,1.98,2.33,1.83,3.28,4.11,0.89,0.94,2.61])\n",
    "# I am loading the data from Bolton+ 2008, to retrieve redshifts and Reff \n",
    "data_Bolton = np.loadtxt('./raw_data/Bolton_2008.txt', usecols=[0], dtype='str')\n",
    "SDSS_Bolton_Names = []\n",
    "for i in range(len(data_Bolton)):\n",
    "    SDSS_Bolton_Names = np.append(SDSS_Bolton_Names, 'SDSSJ'+data_Bolton[i][0:4]+data_Bolton[i][9]+data_Bolton[i][10:14])\n",
    "z_Bolton = np.loadtxt('./raw_data/Bolton_2008.txt', usecols=[1])\n",
    "Reff_Bolton = np.loadtxt('./raw_data/Bolton_2008.txt', usecols=[3])\n",
    "\n",
    "_, _, indx_Bol = np.intersect1d(GalaxyNames_Barnabe, SDSS_Bolton_Names, assume_unique=True, return_indices=True,)\n",
    "Reff_arcsec = Reff_Bolton[indx_Bol]\n",
    "redshift = z_Bolton[indx_Bol]"
   ]
  },
  {
   "cell_type": "code",
   "execution_count": 9,
   "id": "36467d21-8cf1-4479-b598-4c0e13f98f66",
   "metadata": {},
   "outputs": [],
   "source": [
    "# angular diameter distance in kpc\n",
    "d_A = cosmo.angular_diameter_distance(z=redshift).value * 1e3\n",
    "\n",
    "# pi radian = 180 degree ==> 1deg = pi/180 ==> 1arcsec = pi/180/3600\n",
    "# Reff_radian = Reff_arcsec * ( np.pi / 180 / 3600 )\n",
    "# arc length = radius * angle\n",
    "# Reff = d_A * Reff_radian\n",
    "\n",
    "Reff_radian = Reff_arcsec * ( np.pi / 180 / 3600 )\n",
    "Reff = d_A * Reff_radian"
   ]
  },
  {
   "cell_type": "code",
   "execution_count": 11,
   "id": "bcbcaef1-f1df-4154-993e-c6f2ac15e597",
   "metadata": {},
   "outputs": [
    {
     "data": {
      "image/png": "[encoded data removed]",
      "text/plain": [
       "<Figure size 700x300 with 2 Axes>"
      ]
     },
     "metadata": {},
     "output_type": "display_data"
    }
   ],
   "source": [
    "#################\n",
    "# Plot parameters\n",
    "params = {\n",
    "    \"font.size\": 12,\n",
    "    \"font.family\": \"Times\",\n",
    "    \"text.usetex\": True,\n",
    "    \"figure.figsize\": (7, 3),\n",
    "    \"figure.subplot.left\": 0.25,\n",
    "    \"figure.subplot.right\": 0.95,\n",
    "    \"figure.subplot.bottom\": 0.15,\n",
    "    \"figure.subplot.top\": 0.95,\n",
    "    \"figure.subplot.wspace\": 0.35,\n",
    "    \"figure.subplot.hspace\": 0.35,\n",
    "    \"lines.markersize\": 2,\n",
    "    \"lines.linewidth\": 1.5,\n",
    "}\n",
    "plt.rcParams.update(params)\n",
    "plt.figure()\n",
    "ax = plt.subplot(1, 2, 1)\n",
    "plt.grid(linestyle='-', linewidth=0.3)\n",
    "\n",
    "plt.plot(M, Reff, 'o')\n",
    "\n",
    "plt.axis([1e10, 1e12, 0, 15])\n",
    "plt.xscale('log')\n",
    "plt.ylabel(r\"$R_{\\mathrm{eff}}$ [kpc]\")\n",
    "plt.xlabel(\"$M_{*}$ [M$_{\\odot}$]\")\n",
    "ax.tick_params(direction='in', axis='both', which='both', pad=4.5)\n",
    "\n",
    "######\n",
    "ax = plt.subplot(1, 2, 2)\n",
    "plt.grid(linestyle='-', linewidth=0.3)\n",
    "\n",
    "plt.errorbar(M, fDM, yerr=error, marker='o', markersize=7, markeredgecolor=\"white\", \n",
    "             ls='none', lw=0.5, c='midnightblue')\n",
    "\n",
    "plt.axis([1e10, 1e12, -0.05, 1])\n",
    "plt.xscale('log')\n",
    "plt.ylabel(r\"$f_{\\mathrm{DM}}$\")\n",
    "plt.xlabel(\"$M_{*}$ [M$_{\\odot}$]\")\n",
    "ax.tick_params(direction='in', axis='both', which='both', pad=4.5)\n",
    "plt.show()"
   ]
  },
  {
   "cell_type": "markdown",
   "id": "0b1e9181-3c73-4492-91f2-30ab82a3ad1b",
   "metadata": {},
   "source": [
    "### Making the final csv file"
   ]
  },
  {
   "cell_type": "code",
   "execution_count": null,
   "id": "dd690984-8300-49bb-b488-b020883ba6eb",
   "metadata": {},
   "outputs": [],
   "source": [
    "# Writing the data into a CSV file\n",
    "with open('dataset/BARNABE11.csv', 'w', newline='') as csvfile:\n",
    "    writer = csv.writer(csvfile)\n",
    "\n",
    "    # Writing the name line and the unit line\n",
    "    writer.writerow([ \"Name\",\"Mstellar[Msun]\",\"fDM(Reff)\", \"+ErrorfDM\", \"-ErrorfDM\", \"Reff[kpc]\"])\n",
    "\n",
    "    # Looping through each element of the data\n",
    "    for i in range(len(M)):\n",
    "        Name = GalaxyNames[i]\n",
    "        Mass = M[i]\n",
    "        fDMeff = fDM[i]\n",
    "        psigma_fdmeff = higherror[i]\n",
    "        msigma_fdmeff = lowerror[i]\n",
    "        R = Reff[i]\n",
    "        # Writing the data into the CSV file\n",
    "        writer.writerow([ Name, Mass, fDMeff, psigma_fdmeff, msigma_fdmeff, R])\n",
    "        "
   ]
  },
  {
   "cell_type": "code",
   "execution_count": null,
   "id": "1692b412-62c8-4304-ac3f-7c02c8149949",
   "metadata": {},
   "outputs": [],
   "source": [
    "# Reading the CSV file into a DataFrame\n",
    "barnabe = pd.read_csv('dataset/BARNABE11.csv')\n",
    "barnabe"
   ]
  },
  {
   "cell_type": "code",
   "execution_count": null,
   "id": "ba51ddda-2d60-4814-b4e2-c0b6c5d29634",
   "metadata": {},
   "outputs": [],
   "source": []
  },
  {
   "cell_type": "code",
   "execution_count": null,
   "id": "52fcb69f-ab4d-4a33-b65a-7e71ff973c08",
   "metadata": {},
   "outputs": [],
   "source": []
  },
  {
   "cell_type": "code",
   "execution_count": null,
   "id": "cd0f0d87-1a29-4bec-a3ea-e3e054a1cad0",
   "metadata": {},
   "outputs": [],
   "source": []
  },
  {
   "cell_type": "code",
   "execution_count": null,
   "id": "03108340-a8a2-4ab6-a9d0-9edca2205f58",
   "metadata": {},
   "outputs": [],
   "source": []
  },
  {
   "cell_type": "code",
   "execution_count": null,
   "id": "df81b87a-bb05-406e-ab35-1cae9b1da7b7",
   "metadata": {},
   "outputs": [],
   "source": []
  },
  {
   "cell_type": "code",
   "execution_count": null,
   "id": "40ea25a8-620d-40ff-8ae3-0c4acc71d371",
   "metadata": {},
   "outputs": [],
   "source": []
  }
 ],
 "metadata": {
  "kernelspec": {
   "display_name": "Python 3 (ipykernel)",
   "language": "python",
   "name": "python3"
  },
  "language_info": {
   "codemirror_mode": {
    "name": "ipython",
    "version": 3
   },
   "file_extension": ".py",
   "mimetype": "text/x-python",
   "name": "python",
   "nbconvert_exporter": "python",
   "pygments_lexer": "ipython3",
   "version": "3.9.6"
  }
 },
 "nbformat": 4,
 "nbformat_minor": 5
}

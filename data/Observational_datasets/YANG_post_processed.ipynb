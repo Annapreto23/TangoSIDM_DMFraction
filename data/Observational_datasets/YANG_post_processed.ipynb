{
 "cells": [
  {
   "cell_type": "markdown",
   "id": "c1057a28-6baa-4d0a-b067-cf3d5dad566a",
   "metadata": {},
   "source": [
    "# Creating the dataset from Yang2024"
   ]
  },
  {
   "cell_type": "code",
   "execution_count": 6,
   "id": "e7899b0e-f188-4c53-970b-afc7238d1217",
   "metadata": {},
   "outputs": [],
   "source": [
    "import numpy as np\n",
    "import matplotlib.pyplot as plt\n",
    "from glob import glob\n",
    "import pandas as pd\n",
    "import csv"
   ]
  },
  {
   "cell_type": "markdown",
   "id": "0fcf2934-7ba3-4397-b775-45a21bffecde",
   "metadata": {},
   "source": [
    "### Loading the data"
   ]
  },
  {
   "cell_type": "code",
   "execution_count": 11,
   "id": "56aa84c4-62d9-4e30-9e8c-a294fbaa3dda",
   "metadata": {},
   "outputs": [],
   "source": [
    "data=np.loadtxt('./raw_data/Yang_2024.txt',  usecols=np.arange(1, 5))\n",
    "names=np.loadtxt('./raw_data/Yang_2024.txt',  usecols=0, dtype = 'str')"
   ]
  },
  {
   "cell_type": "markdown",
   "id": "ca9c87c3-4f0e-422b-ba7a-6291bb1a330c",
   "metadata": {},
   "source": [
    "### Selecting and converting data into the correct units"
   ]
  },
  {
   "cell_type": "code",
   "execution_count": 15,
   "id": "39e6c42d-9a71-4b20-8099-9e107804a330",
   "metadata": {},
   "outputs": [],
   "source": [
    "Name = names[:]\n",
    "logM = data[:,0]\n",
    "M = 10**logM\n",
    "fDM = data[:,1]\n",
    "ErrorfDM = data[:,2]\n",
    "R = data[:,3]"
   ]
  },
  {
   "cell_type": "markdown",
   "id": "bc1606f9-c895-4fb4-a74e-df19991bcf94",
   "metadata": {},
   "source": [
    "### Making the final csv file"
   ]
  },
  {
   "cell_type": "code",
   "execution_count": 19,
   "id": "ab18b3f9-e5d4-474a-a3f7-010b426bcad7",
   "metadata": {},
   "outputs": [
    {
     "data": {
      "text/html": [
       "<div>\n",
       "<style scoped>\n",
       "    .dataframe tbody tr th:only-of-type {\n",
       "        vertical-align: middle;\n",
       "    }\n",
       "\n",
       "    .dataframe tbody tr th {\n",
       "        vertical-align: top;\n",
       "    }\n",
       "\n",
       "    .dataframe thead th {\n",
       "        text-align: right;\n",
       "    }\n",
       "</style>\n",
       "<table border=\"1\" class=\"dataframe\">\n",
       "  <thead>\n",
       "    <tr style=\"text-align: right;\">\n",
       "      <th></th>\n",
       "      <th>GalaxyName</th>\n",
       "      <th>M*[Msun]</th>\n",
       "      <th>fDM(Reff)</th>\n",
       "      <th>ErrorfDM</th>\n",
       "      <th>Reff[kpc]</th>\n",
       "    </tr>\n",
       "  </thead>\n",
       "  <tbody>\n",
       "    <tr>\n",
       "      <th>0</th>\n",
       "      <td>NGC0680</td>\n",
       "      <td>1.230269e+11</td>\n",
       "      <td>0.21</td>\n",
       "      <td>0.10</td>\n",
       "      <td>2.64</td>\n",
       "    </tr>\n",
       "    <tr>\n",
       "      <th>1</th>\n",
       "      <td>NGC1023</td>\n",
       "      <td>1.047129e+11</td>\n",
       "      <td>0.12</td>\n",
       "      <td>0.04</td>\n",
       "      <td>2.58</td>\n",
       "    </tr>\n",
       "    <tr>\n",
       "      <th>2</th>\n",
       "      <td>NGC2685</td>\n",
       "      <td>3.019952e+10</td>\n",
       "      <td>0.13</td>\n",
       "      <td>0.04</td>\n",
       "      <td>2.08</td>\n",
       "    </tr>\n",
       "    <tr>\n",
       "      <th>3</th>\n",
       "      <td>NGC2764</td>\n",
       "      <td>4.570882e+10</td>\n",
       "      <td>0.31</td>\n",
       "      <td>0.10</td>\n",
       "      <td>2.36</td>\n",
       "    </tr>\n",
       "    <tr>\n",
       "      <th>4</th>\n",
       "      <td>NGC3522</td>\n",
       "      <td>9.772372e+09</td>\n",
       "      <td>0.16</td>\n",
       "      <td>0.13</td>\n",
       "      <td>1.26</td>\n",
       "    </tr>\n",
       "    <tr>\n",
       "      <th>5</th>\n",
       "      <td>NGC3998</td>\n",
       "      <td>5.370318e+10</td>\n",
       "      <td>0.05</td>\n",
       "      <td>0.06</td>\n",
       "      <td>1.33</td>\n",
       "    </tr>\n",
       "    <tr>\n",
       "      <th>6</th>\n",
       "      <td>NGC4203</td>\n",
       "      <td>5.888437e+10</td>\n",
       "      <td>0.04</td>\n",
       "      <td>0.05</td>\n",
       "      <td>2.10</td>\n",
       "    </tr>\n",
       "    <tr>\n",
       "      <th>7</th>\n",
       "      <td>NGC5582</td>\n",
       "      <td>5.011872e+10</td>\n",
       "      <td>0.23</td>\n",
       "      <td>0.08</td>\n",
       "      <td>3.69</td>\n",
       "    </tr>\n",
       "    <tr>\n",
       "      <th>8</th>\n",
       "      <td>NGC5631</td>\n",
       "      <td>7.762471e+10</td>\n",
       "      <td>0.20</td>\n",
       "      <td>0.15</td>\n",
       "      <td>2.74</td>\n",
       "    </tr>\n",
       "    <tr>\n",
       "      <th>9</th>\n",
       "      <td>NGC6798</td>\n",
       "      <td>6.309573e+10</td>\n",
       "      <td>0.23</td>\n",
       "      <td>0.06</td>\n",
       "      <td>3.07</td>\n",
       "    </tr>\n",
       "    <tr>\n",
       "      <th>10</th>\n",
       "      <td>UGC03960</td>\n",
       "      <td>1.230269e+10</td>\n",
       "      <td>0.41</td>\n",
       "      <td>0.15</td>\n",
       "      <td>2.80</td>\n",
       "    </tr>\n",
       "  </tbody>\n",
       "</table>\n",
       "</div>"
      ],
      "text/plain": [
       "   GalaxyName      M*[Msun]  fDM(Reff)  ErrorfDM  Reff[kpc]\n",
       "0     NGC0680  1.230269e+11       0.21      0.10       2.64\n",
       "1     NGC1023  1.047129e+11       0.12      0.04       2.58\n",
       "2     NGC2685  3.019952e+10       0.13      0.04       2.08\n",
       "3     NGC2764  4.570882e+10       0.31      0.10       2.36\n",
       "4     NGC3522  9.772372e+09       0.16      0.13       1.26\n",
       "5     NGC3998  5.370318e+10       0.05      0.06       1.33\n",
       "6     NGC4203  5.888437e+10       0.04      0.05       2.10\n",
       "7     NGC5582  5.011872e+10       0.23      0.08       3.69\n",
       "8     NGC5631  7.762471e+10       0.20      0.15       2.74\n",
       "9     NGC6798  6.309573e+10       0.23      0.06       3.07\n",
       "10   UGC03960  1.230269e+10       0.41      0.15       2.80"
      ]
     },
     "execution_count": 19,
     "metadata": {},
     "output_type": "execute_result"
    }
   ],
   "source": [
    "# Writing the data into a CSV file\n",
    "with open('dataset/YANG24.csv', 'w', newline='') as csvfile:\n",
    "    writer = csv.writer(csvfile)\n",
    "\n",
    "    # Writing the name line and the unit line\n",
    "    writer.writerow([\"GalaxyName\", \"M*[Msun]\", \"fDM(Reff)\", \"ErrorfDM\", \"Reff[kpc]\"])\n",
    "\n",
    "    # Looping through each element of the DataFrame\n",
    "    for i in range(len(Name)):\n",
    "        name = Name[i]\n",
    "        Mass = M[i]\n",
    "        Reff = R[i]\n",
    "        fDMeff = fDM[i]\n",
    "        Err = ErrorfDM[i]\n",
    "        # Writing the data into the CSV file\n",
    "        writer.writerow([name, Mass, fDMeff, Err, Reff])\n",
    "        \n",
    "# Reading the CSV file into a DataFrame\n",
    "Yang = pd.read_csv('dataset/YANG24.csv')\n",
    "Yang"
   ]
  },
  {
   "cell_type": "code",
   "execution_count": null,
   "id": "d50e12b7-4adb-4e56-a2b1-65e5ec9deabd",
   "metadata": {},
   "outputs": [],
   "source": []
  }
 ],
 "metadata": {
  "kernelspec": {
   "display_name": "Python 3 (ipykernel)",
   "language": "python",
   "name": "python3"
  },
  "language_info": {
   "codemirror_mode": {
    "name": "ipython",
    "version": 3
   },
   "file_extension": ".py",
   "mimetype": "text/x-python",
   "name": "python",
   "nbconvert_exporter": "python",
   "pygments_lexer": "ipython3",
   "version": "3.9.6"
  }
 },
 "nbformat": 4,
 "nbformat_minor": 5
}
